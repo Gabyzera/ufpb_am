{
 "cells": [
  {
   "cell_type": "markdown",
   "metadata": {},
   "source": [
    "# 🏫 Previsão de Evasão Escolar durante Ensino Médio\n",
    "## 📚 Importando bibliotecas que serão utilizadas"
   ]
  },
  {
   "cell_type": "code",
   "execution_count": 1,
   "metadata": {},
   "outputs": [],
   "source": [
    "import numpy as np\n",
    "import pandas as pd\n",
    "#import tensorflow as tf\n",
    "import matplotlib as plt\n",
    "#from keras. import \n",
    "from scipy import stats\n",
    "from sklearn import model_selection\n",
    "from IPython.display import Markdown\n",
    "from sklearn.preprocessing import MinMaxScaler\n",
    "from tratamento_dados.dados_reduzidos import reduzir_dados "
   ]
  },
  {
   "cell_type": "markdown",
   "metadata": {},
   "source": [
    "## Tratamento de Dados Básico\n",
    "- Tratar os dados e construir a matriz $X$ e o vetor $y$ de entrada para o classificador.\n",
    "- Identificar o número de exemplos ($N$) e número de features.\n",
    "- Separar os dados ($X$, $y$) entre treinamento e teste.\n",
    "- Aplicar normalização ou padronização dos dados."
   ]
  },
  {
   "cell_type": "code",
   "execution_count": 2,
   "metadata": {},
   "outputs": [
    {
     "name": "stderr",
     "output_type": "stream",
     "text": [
      "c:\\Users\\gabri\\Workspace\\UFPB\\2023.2\\aprendizagem_maquina\\evasao_escolar\\src\\tratamento_dados\\dados_reduzidos.py:5: DtypeWarning: Columns (2) have mixed types. Specify dtype option on import or set low_memory=False.\n",
      "  ed_brasileira_2022_df = pd.read_csv(ED_BRASILEIRA_2022_PATH)\n",
      "c:\\Users\\gabri\\Workspace\\UFPB\\2023.2\\aprendizagem_maquina\\evasao_escolar\\src\\tratamento_dados\\dados_reduzidos.py:18: DtypeWarning: Columns (0) have mixed types. Specify dtype option on import or set low_memory=False.\n",
      "  ed_brasileira_2022_redu_df = pd.read_csv(ED_BRASILEIRA_2022_REDU_PATH)\n"
     ]
    }
   ],
   "source": [
    "dataset = reduzir_dados()\n",
    "\n",
    "ed_brasileira_2022_redu_df = dataset\n",
    "\n",
    "X = np.array(ed_brasileira_2022_redu_df.drop(['taxa_de_abandono_ensino_medio'], axis=1))\n",
    "y = np.array(ed_brasileira_2022_redu_df['taxa_de_abandono_ensino_medio'])"
   ]
  },
  {
   "cell_type": "code",
   "execution_count": 10,
   "metadata": {},
   "outputs": [
    {
     "data": {
      "text/markdown": [
       "## Para o ano de **2020**:"
      ],
      "text/plain": [
       "<IPython.core.display.Markdown object>"
      ]
     },
     "metadata": {},
     "output_type": "display_data"
    },
    {
     "data": {
      "text/markdown": [
       "### Número de exemplos ($N$): **131229**, número de features: **2**."
      ],
      "text/plain": [
       "<IPython.core.display.Markdown object>"
      ]
     },
     "metadata": {},
     "output_type": "display_data"
    },
    {
     "data": {
      "text/markdown": [
       "## Para o ano de **2022**:"
      ],
      "text/plain": [
       "<IPython.core.display.Markdown object>"
      ]
     },
     "metadata": {},
     "output_type": "display_data"
    },
    {
     "data": {
      "text/markdown": [
       "### Número de exemplos ($N$): **129307**, número de features: **2**."
      ],
      "text/plain": [
       "<IPython.core.display.Markdown object>"
      ]
     },
     "metadata": {},
     "output_type": "display_data"
    }
   ],
   "source": [
    "display(Markdown(f\"## Para o ano de **2020**:\"))\n",
    "nRow = X_2020.shape[0] \n",
    "nCol = X_2020.shape[1]\n",
    "display(Markdown(f\"### Número de exemplos ($N$): **{nRow}**, número de features: **{nCol}**.\"))\n",
    "display(Markdown(f\"## Para o ano de **2022**:\"))\n",
    "nRow = X_2022.shape[0] \n",
    "nCol = X_2022.shape[1]\n",
    "display(Markdown(f\"### Número de exemplos ($N$): **{nRow}**, número de features: **{nCol}**.\"))"
   ]
  },
  {
   "cell_type": "code",
   "execution_count": 11,
   "metadata": {},
   "outputs": [],
   "source": [
    "RANDOM_STATE = 2 \n",
    "X_2020_train, X_2020_test, y_2020_train, y_2020_train = model_selection.train_test_split(X_2020, y_2020, random_state=RANDOM_STATE, test_size=0.2)\n",
    "\n",
    "X_2020_train, X_2020_test, y_2020_train, y_2020_train = model_selection.train_test_split(X_2022, y_2022, random_state=RANDOM_STATE, test_size=0.2)"
   ]
  },
  {
   "cell_type": "code",
   "execution_count": null,
   "metadata": {},
   "outputs": [],
   "source": [
    "#padronizar a taxa de aprendizado"
   ]
  },
  {
   "cell_type": "code",
   "execution_count": null,
   "metadata": {},
   "outputs": [],
   "source": [
    "#verificar se zona_de_localizacao tem somente dois valores"
   ]
  },
  {
   "cell_type": "code",
   "execution_count": null,
   "metadata": {},
   "outputs": [],
   "source": [
    "#normalizar a zona de localizacao\n",
    "#normalizar a dependencia administrativa\n",
    "\n",
    "def normalizar_features(X_2020):\n",
    "    features_normalizadas = np.where(X_2020 == 'Rural', 1, 0)\n",
    "    \n",
    "def normalizar_features(X_2020):\n",
    "    features_normalizadas = np.where(X_2020 == 'Rural', 1, 0)"
   ]
  }
 ],
 "metadata": {
  "kernelspec": {
   "display_name": "Python 3",
   "language": "python",
   "name": "python3"
  },
  "language_info": {
   "codemirror_mode": {
    "name": "ipython",
    "version": 3
   },
   "file_extension": ".py",
   "mimetype": "text/x-python",
   "name": "python",
   "nbconvert_exporter": "python",
   "pygments_lexer": "ipython3",
   "version": "3.8.0"
  }
 },
 "nbformat": 4,
 "nbformat_minor": 2
}
