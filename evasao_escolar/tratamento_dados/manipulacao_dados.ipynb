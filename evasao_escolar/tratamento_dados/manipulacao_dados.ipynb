{
 "cells": [
  {
   "cell_type": "markdown",
   "metadata": {},
   "source": [
    "# 🏫 Previsão de Evasão Escolar \n",
    "## 📚 Importando bibliotecas que serão utilizadas"
   ]
  },
  {
   "cell_type": "code",
   "execution_count": 1,
   "metadata": {},
   "outputs": [],
   "source": [
    "import pandas as pd\n",
    "import matplotlib.pyplot as plt\n",
    "from IPython.display import Markdown"
   ]
  },
  {
   "cell_type": "markdown",
   "metadata": {},
   "source": [
    "## 📖 Lendo os arquivos csv\n",
    "### `rend_escolas_2022`: \n",
    "#### 1. Convertendo aquivo no formato 'xlsx' para 'csv'."
   ]
  },
  {
   "cell_type": "code",
   "execution_count": null,
   "metadata": {},
   "outputs": [],
   "source": [
    "read_file_rend_escolas_2022 = pd.read_excel('dados/tx_rend_escolas_2022.xlsx')"
   ]
  },
  {
   "cell_type": "code",
   "execution_count": null,
   "metadata": {},
   "outputs": [],
   "source": [
    "read_file_rend_escolas_2022.to_csv('dados/rend_escolas_2022.csv')"
   ]
  },
  {
   "cell_type": "markdown",
   "metadata": {},
   "source": [
    "#### 2. Lendo o arquivo e mostrando as 5 primeiras linhas."
   ]
  },
  {
   "cell_type": "code",
   "execution_count": 2,
   "metadata": {},
   "outputs": [
    {
     "name": "stderr",
     "output_type": "stream",
     "text": [
      "C:\\Users\\gabri\\AppData\\Local\\Temp\\ipykernel_35756\\1147842157.py:2: DtypeWarning: Columns (1,4,6) have mixed types. Specify dtype option on import or set low_memory=False.\n",
      "  rend_escolas_2022_original_df = pd.read_csv(REND_BASICA_2022_PATH)\n"
     ]
    },
    {
     "data": {
      "text/html": [
       "<div>\n",
       "<style scoped>\n",
       "    .dataframe tbody tr th:only-of-type {\n",
       "        vertical-align: middle;\n",
       "    }\n",
       "\n",
       "    .dataframe tbody tr th {\n",
       "        vertical-align: top;\n",
       "    }\n",
       "\n",
       "    .dataframe thead th {\n",
       "        text-align: right;\n",
       "    }\n",
       "</style>\n",
       "<table border=\"1\" class=\"dataframe\">\n",
       "  <thead>\n",
       "    <tr style=\"text-align: right;\">\n",
       "      <th></th>\n",
       "      <th>Unnamed: 0.1</th>\n",
       "      <th>Unnamed: 0</th>\n",
       "      <th>Ministério da Educação</th>\n",
       "      <th>Unnamed: 2</th>\n",
       "      <th>Unnamed: 3</th>\n",
       "      <th>Unnamed: 4</th>\n",
       "      <th>Unnamed: 5</th>\n",
       "      <th>Unnamed: 6</th>\n",
       "      <th>Unnamed: 7</th>\n",
       "      <th>Unnamed: 8</th>\n",
       "      <th>...</th>\n",
       "      <th>Unnamed: 53</th>\n",
       "      <th>Unnamed: 54</th>\n",
       "      <th>Unnamed: 55</th>\n",
       "      <th>Unnamed: 56</th>\n",
       "      <th>Unnamed: 57</th>\n",
       "      <th>Unnamed: 58</th>\n",
       "      <th>Unnamed: 59</th>\n",
       "      <th>Unnamed: 60</th>\n",
       "      <th>Unnamed: 61</th>\n",
       "      <th>Unnamed: 62</th>\n",
       "    </tr>\n",
       "  </thead>\n",
       "  <tbody>\n",
       "    <tr>\n",
       "      <th>0</th>\n",
       "      <td>0</td>\n",
       "      <td>NaN</td>\n",
       "      <td>Instituto Nacional de Estudos e Pesquisas Educ...</td>\n",
       "      <td>NaN</td>\n",
       "      <td>NaN</td>\n",
       "      <td>NaN</td>\n",
       "      <td>NaN</td>\n",
       "      <td>NaN</td>\n",
       "      <td>NaN</td>\n",
       "      <td>NaN</td>\n",
       "      <td>...</td>\n",
       "      <td>NaN</td>\n",
       "      <td>NaN</td>\n",
       "      <td>NaN</td>\n",
       "      <td>NaN</td>\n",
       "      <td>NaN</td>\n",
       "      <td>NaN</td>\n",
       "      <td>NaN</td>\n",
       "      <td>NaN</td>\n",
       "      <td>NaN</td>\n",
       "      <td>NaN</td>\n",
       "    </tr>\n",
       "    <tr>\n",
       "      <th>1</th>\n",
       "      <td>1</td>\n",
       "      <td>NaN</td>\n",
       "      <td>NaN</td>\n",
       "      <td>NaN</td>\n",
       "      <td>NaN</td>\n",
       "      <td>NaN</td>\n",
       "      <td>NaN</td>\n",
       "      <td>NaN</td>\n",
       "      <td>NaN</td>\n",
       "      <td>NaN</td>\n",
       "      <td>...</td>\n",
       "      <td>NaN</td>\n",
       "      <td>NaN</td>\n",
       "      <td>NaN</td>\n",
       "      <td>NaN</td>\n",
       "      <td>NaN</td>\n",
       "      <td>NaN</td>\n",
       "      <td>NaN</td>\n",
       "      <td>NaN</td>\n",
       "      <td>NaN</td>\n",
       "      <td>NaN</td>\n",
       "    </tr>\n",
       "    <tr>\n",
       "      <th>2</th>\n",
       "      <td>2</td>\n",
       "      <td>...</td>\n",
       "      <td>NaN</td>\n",
       "      <td>NaN</td>\n",
       "      <td>NaN</td>\n",
       "      <td>NaN</td>\n",
       "      <td>NaN</td>\n",
       "      <td>NaN</td>\n",
       "      <td>NaN</td>\n",
       "      <td>NaN</td>\n",
       "      <td>...</td>\n",
       "      <td>NaN</td>\n",
       "      <td>NaN</td>\n",
       "      <td>NaN</td>\n",
       "      <td>NaN</td>\n",
       "      <td>NaN</td>\n",
       "      <td>NaN</td>\n",
       "      <td>NaN</td>\n",
       "      <td>NaN</td>\n",
       "      <td>NaN</td>\n",
       "      <td>NaN</td>\n",
       "    </tr>\n",
       "    <tr>\n",
       "      <th>3</th>\n",
       "      <td>3</td>\n",
       "      <td>Taxas de Rendimento Escolar (Aprovação, Reprov...</td>\n",
       "      <td>NaN</td>\n",
       "      <td>NaN</td>\n",
       "      <td>NaN</td>\n",
       "      <td>NaN</td>\n",
       "      <td>NaN</td>\n",
       "      <td>NaN</td>\n",
       "      <td>NaN</td>\n",
       "      <td>NaN</td>\n",
       "      <td>...</td>\n",
       "      <td>NaN</td>\n",
       "      <td>NaN</td>\n",
       "      <td>NaN</td>\n",
       "      <td>NaN</td>\n",
       "      <td>NaN</td>\n",
       "      <td>NaN</td>\n",
       "      <td>NaN</td>\n",
       "      <td>NaN</td>\n",
       "      <td>NaN</td>\n",
       "      <td>NaN</td>\n",
       "    </tr>\n",
       "    <tr>\n",
       "      <th>4</th>\n",
       "      <td>4</td>\n",
       "      <td>Ano</td>\n",
       "      <td>Região</td>\n",
       "      <td>UF</td>\n",
       "      <td>Código do Município</td>\n",
       "      <td>Nome do Município</td>\n",
       "      <td>Código da Escola</td>\n",
       "      <td>Nome da Escola</td>\n",
       "      <td>Localização</td>\n",
       "      <td>Dependência Administrativa</td>\n",
       "      <td>...</td>\n",
       "      <td>NaN</td>\n",
       "      <td>NaN</td>\n",
       "      <td>NaN</td>\n",
       "      <td>NaN</td>\n",
       "      <td>NaN</td>\n",
       "      <td>NaN</td>\n",
       "      <td>NaN</td>\n",
       "      <td>NaN</td>\n",
       "      <td>NaN</td>\n",
       "      <td>NaN</td>\n",
       "    </tr>\n",
       "  </tbody>\n",
       "</table>\n",
       "<p>5 rows × 64 columns</p>\n",
       "</div>"
      ],
      "text/plain": [
       "   Unnamed: 0.1                                         Unnamed: 0  \\\n",
       "0             0                                                NaN   \n",
       "1             1                                                NaN   \n",
       "2             2                                                ...   \n",
       "3             3  Taxas de Rendimento Escolar (Aprovação, Reprov...   \n",
       "4             4                                                Ano   \n",
       "\n",
       "                              Ministério da Educação Unnamed: 2  \\\n",
       "0  Instituto Nacional de Estudos e Pesquisas Educ...        NaN   \n",
       "1                                                NaN        NaN   \n",
       "2                                                NaN        NaN   \n",
       "3                                                NaN        NaN   \n",
       "4                                             Região         UF   \n",
       "\n",
       "            Unnamed: 3         Unnamed: 4        Unnamed: 5      Unnamed: 6  \\\n",
       "0                  NaN                NaN               NaN             NaN   \n",
       "1                  NaN                NaN               NaN             NaN   \n",
       "2                  NaN                NaN               NaN             NaN   \n",
       "3                  NaN                NaN               NaN             NaN   \n",
       "4  Código do Município  Nome do Município  Código da Escola  Nome da Escola   \n",
       "\n",
       "    Unnamed: 7                  Unnamed: 8  ... Unnamed: 53 Unnamed: 54  \\\n",
       "0          NaN                         NaN  ...         NaN         NaN   \n",
       "1          NaN                         NaN  ...         NaN         NaN   \n",
       "2          NaN                         NaN  ...         NaN         NaN   \n",
       "3          NaN                         NaN  ...         NaN         NaN   \n",
       "4  Localização  Dependência Administrativa  ...         NaN         NaN   \n",
       "\n",
       "  Unnamed: 55 Unnamed: 56 Unnamed: 57 Unnamed: 58 Unnamed: 59 Unnamed: 60  \\\n",
       "0         NaN         NaN         NaN         NaN         NaN         NaN   \n",
       "1         NaN         NaN         NaN         NaN         NaN         NaN   \n",
       "2         NaN         NaN         NaN         NaN         NaN         NaN   \n",
       "3         NaN         NaN         NaN         NaN         NaN         NaN   \n",
       "4         NaN         NaN         NaN         NaN         NaN         NaN   \n",
       "\n",
       "  Unnamed: 61 Unnamed: 62  \n",
       "0         NaN         NaN  \n",
       "1         NaN         NaN  \n",
       "2         NaN         NaN  \n",
       "3         NaN         NaN  \n",
       "4         NaN         NaN  \n",
       "\n",
       "[5 rows x 64 columns]"
      ]
     },
     "execution_count": 2,
     "metadata": {},
     "output_type": "execute_result"
    }
   ],
   "source": [
    "REND_BASICA_2022_PATH = 'dados/rend_escolas_2022.csv'\n",
    "rend_escolas_2022_original_df = pd.read_csv(REND_BASICA_2022_PATH)\n",
    "rend_escolas_2022_original_df.head(5)"
   ]
  },
  {
   "cell_type": "markdown",
   "metadata": {},
   "source": [
    "### `microdados_ed_basica_2022`:\n",
    "- Lendo o arquivo, alterando para `encoding=latin-1` e mostrando as 5 primeiras linhas."
   ]
  },
  {
   "cell_type": "code",
   "execution_count": 3,
   "metadata": {},
   "outputs": [
    {
     "name": "stderr",
     "output_type": "stream",
     "text": [
      "C:\\Users\\gabri\\AppData\\Local\\Temp\\ipykernel_35756\\1627271937.py:2: DtypeWarning: Columns (27) have mixed types. Specify dtype option on import or set low_memory=False.\n",
      "  ed_basica_2022_original_df = pd.read_csv(ED_BASICA_2022_PATH, sep=';', encoding='latin-1')\n"
     ]
    },
    {
     "data": {
      "text/html": [
       "<div>\n",
       "<style scoped>\n",
       "    .dataframe tbody tr th:only-of-type {\n",
       "        vertical-align: middle;\n",
       "    }\n",
       "\n",
       "    .dataframe tbody tr th {\n",
       "        vertical-align: top;\n",
       "    }\n",
       "\n",
       "    .dataframe thead th {\n",
       "        text-align: right;\n",
       "    }\n",
       "</style>\n",
       "<table border=\"1\" class=\"dataframe\">\n",
       "  <thead>\n",
       "    <tr style=\"text-align: right;\">\n",
       "      <th></th>\n",
       "      <th>NU_ANO_CENSO</th>\n",
       "      <th>NO_REGIAO</th>\n",
       "      <th>CO_REGIAO</th>\n",
       "      <th>NO_UF</th>\n",
       "      <th>SG_UF</th>\n",
       "      <th>CO_UF</th>\n",
       "      <th>NO_MUNICIPIO</th>\n",
       "      <th>CO_MUNICIPIO</th>\n",
       "      <th>NO_MESORREGIAO</th>\n",
       "      <th>CO_MESORREGIAO</th>\n",
       "      <th>...</th>\n",
       "      <th>QT_TUR_FUND_AF</th>\n",
       "      <th>QT_TUR_MED</th>\n",
       "      <th>QT_TUR_PROF</th>\n",
       "      <th>QT_TUR_PROF_TEC</th>\n",
       "      <th>QT_TUR_EJA</th>\n",
       "      <th>QT_TUR_EJA_FUND</th>\n",
       "      <th>QT_TUR_EJA_MED</th>\n",
       "      <th>QT_TUR_ESP</th>\n",
       "      <th>QT_TUR_ESP_CC</th>\n",
       "      <th>QT_TUR_ESP_CE</th>\n",
       "    </tr>\n",
       "  </thead>\n",
       "  <tbody>\n",
       "    <tr>\n",
       "      <th>0</th>\n",
       "      <td>2022</td>\n",
       "      <td>Norte</td>\n",
       "      <td>1</td>\n",
       "      <td>Rondônia</td>\n",
       "      <td>RO</td>\n",
       "      <td>11</td>\n",
       "      <td>Alta Floresta D'Oeste</td>\n",
       "      <td>1100015</td>\n",
       "      <td>Leste Rondoniense</td>\n",
       "      <td>2</td>\n",
       "      <td>...</td>\n",
       "      <td>0.0</td>\n",
       "      <td>0.0</td>\n",
       "      <td>0.0</td>\n",
       "      <td>0.0</td>\n",
       "      <td>0.0</td>\n",
       "      <td>0.0</td>\n",
       "      <td>0.0</td>\n",
       "      <td>0.0</td>\n",
       "      <td>0.0</td>\n",
       "      <td>0.0</td>\n",
       "    </tr>\n",
       "    <tr>\n",
       "      <th>1</th>\n",
       "      <td>2022</td>\n",
       "      <td>Norte</td>\n",
       "      <td>1</td>\n",
       "      <td>Rondônia</td>\n",
       "      <td>RO</td>\n",
       "      <td>11</td>\n",
       "      <td>Alta Floresta D'Oeste</td>\n",
       "      <td>1100015</td>\n",
       "      <td>Leste Rondoniense</td>\n",
       "      <td>2</td>\n",
       "      <td>...</td>\n",
       "      <td>0.0</td>\n",
       "      <td>0.0</td>\n",
       "      <td>0.0</td>\n",
       "      <td>0.0</td>\n",
       "      <td>10.0</td>\n",
       "      <td>6.0</td>\n",
       "      <td>4.0</td>\n",
       "      <td>3.0</td>\n",
       "      <td>3.0</td>\n",
       "      <td>0.0</td>\n",
       "    </tr>\n",
       "    <tr>\n",
       "      <th>2</th>\n",
       "      <td>2022</td>\n",
       "      <td>Norte</td>\n",
       "      <td>1</td>\n",
       "      <td>Rondônia</td>\n",
       "      <td>RO</td>\n",
       "      <td>11</td>\n",
       "      <td>Alta Floresta D'Oeste</td>\n",
       "      <td>1100015</td>\n",
       "      <td>Leste Rondoniense</td>\n",
       "      <td>2</td>\n",
       "      <td>...</td>\n",
       "      <td>1.0</td>\n",
       "      <td>0.0</td>\n",
       "      <td>0.0</td>\n",
       "      <td>0.0</td>\n",
       "      <td>0.0</td>\n",
       "      <td>0.0</td>\n",
       "      <td>0.0</td>\n",
       "      <td>0.0</td>\n",
       "      <td>0.0</td>\n",
       "      <td>0.0</td>\n",
       "    </tr>\n",
       "    <tr>\n",
       "      <th>3</th>\n",
       "      <td>2022</td>\n",
       "      <td>Norte</td>\n",
       "      <td>1</td>\n",
       "      <td>Rondônia</td>\n",
       "      <td>RO</td>\n",
       "      <td>11</td>\n",
       "      <td>Alta Floresta D'Oeste</td>\n",
       "      <td>1100015</td>\n",
       "      <td>Leste Rondoniense</td>\n",
       "      <td>2</td>\n",
       "      <td>...</td>\n",
       "      <td>6.0</td>\n",
       "      <td>0.0</td>\n",
       "      <td>0.0</td>\n",
       "      <td>0.0</td>\n",
       "      <td>0.0</td>\n",
       "      <td>0.0</td>\n",
       "      <td>0.0</td>\n",
       "      <td>1.0</td>\n",
       "      <td>1.0</td>\n",
       "      <td>0.0</td>\n",
       "    </tr>\n",
       "    <tr>\n",
       "      <th>4</th>\n",
       "      <td>2022</td>\n",
       "      <td>Norte</td>\n",
       "      <td>1</td>\n",
       "      <td>Rondônia</td>\n",
       "      <td>RO</td>\n",
       "      <td>11</td>\n",
       "      <td>Alta Floresta D'Oeste</td>\n",
       "      <td>1100015</td>\n",
       "      <td>Leste Rondoniense</td>\n",
       "      <td>2</td>\n",
       "      <td>...</td>\n",
       "      <td>5.0</td>\n",
       "      <td>0.0</td>\n",
       "      <td>0.0</td>\n",
       "      <td>0.0</td>\n",
       "      <td>0.0</td>\n",
       "      <td>0.0</td>\n",
       "      <td>0.0</td>\n",
       "      <td>3.0</td>\n",
       "      <td>3.0</td>\n",
       "      <td>0.0</td>\n",
       "    </tr>\n",
       "  </tbody>\n",
       "</table>\n",
       "<p>5 rows × 385 columns</p>\n",
       "</div>"
      ],
      "text/plain": [
       "   NU_ANO_CENSO NO_REGIAO  CO_REGIAO     NO_UF SG_UF  CO_UF  \\\n",
       "0          2022     Norte          1  Rondônia    RO     11   \n",
       "1          2022     Norte          1  Rondônia    RO     11   \n",
       "2          2022     Norte          1  Rondônia    RO     11   \n",
       "3          2022     Norte          1  Rondônia    RO     11   \n",
       "4          2022     Norte          1  Rondônia    RO     11   \n",
       "\n",
       "            NO_MUNICIPIO  CO_MUNICIPIO     NO_MESORREGIAO  CO_MESORREGIAO  \\\n",
       "0  Alta Floresta D'Oeste       1100015  Leste Rondoniense               2   \n",
       "1  Alta Floresta D'Oeste       1100015  Leste Rondoniense               2   \n",
       "2  Alta Floresta D'Oeste       1100015  Leste Rondoniense               2   \n",
       "3  Alta Floresta D'Oeste       1100015  Leste Rondoniense               2   \n",
       "4  Alta Floresta D'Oeste       1100015  Leste Rondoniense               2   \n",
       "\n",
       "   ... QT_TUR_FUND_AF  QT_TUR_MED  QT_TUR_PROF QT_TUR_PROF_TEC  QT_TUR_EJA  \\\n",
       "0  ...            0.0         0.0          0.0             0.0         0.0   \n",
       "1  ...            0.0         0.0          0.0             0.0        10.0   \n",
       "2  ...            1.0         0.0          0.0             0.0         0.0   \n",
       "3  ...            6.0         0.0          0.0             0.0         0.0   \n",
       "4  ...            5.0         0.0          0.0             0.0         0.0   \n",
       "\n",
       "   QT_TUR_EJA_FUND  QT_TUR_EJA_MED  QT_TUR_ESP  QT_TUR_ESP_CC QT_TUR_ESP_CE  \n",
       "0              0.0             0.0         0.0            0.0           0.0  \n",
       "1              6.0             4.0         3.0            3.0           0.0  \n",
       "2              0.0             0.0         0.0            0.0           0.0  \n",
       "3              0.0             0.0         1.0            1.0           0.0  \n",
       "4              0.0             0.0         3.0            3.0           0.0  \n",
       "\n",
       "[5 rows x 385 columns]"
      ]
     },
     "execution_count": 3,
     "metadata": {},
     "output_type": "execute_result"
    }
   ],
   "source": [
    "ED_BASICA_2022_PATH = 'dados/microdados_ed_basica_2022.csv'\n",
    "ed_basica_2022_original_df = pd.read_csv(ED_BASICA_2022_PATH, sep=';', encoding='latin-1')\n",
    "ed_basica_2022_original_df.head(5)"
   ]
  },
  {
   "cell_type": "markdown",
   "metadata": {},
   "source": [
    "## 🫧 Limpeza dos dados \n",
    "### `rend_escolas_2022`:\n",
    "#### 1. Fazendo uma cópia do arquivo original para facilitar na produção do projeto. \n",
    "#### 2. Remoção de coluna extra de índice."
   ]
  },
  {
   "cell_type": "code",
   "execution_count": 4,
   "metadata": {},
   "outputs": [],
   "source": [
    "rend_escolas_2022_df = rend_escolas_2022_original_df.copy()\n",
    "\n",
    "rend_escolas_2022_df = rend_escolas_2022_df.drop(columns=['Unnamed: 0.1']) "
   ]
  },
  {
   "cell_type": "markdown",
   "metadata": {},
   "source": [
    "#### 3. Alteração na nomeclatura das colunas usando os nomes presentes na linha 7.\n",
    "#### 4. Remoção das primeiras e últimas linhas indesejadas.\n",
    "#### 5. Resetar índices."
   ]
  },
  {
   "cell_type": "code",
   "execution_count": 5,
   "metadata": {},
   "outputs": [],
   "source": [
    "rend_escolas_2022_df.columns = rend_escolas_2022_df.iloc[7].values \n",
    "\n",
    "rend_escolas_2022_df = rend_escolas_2022_df.drop(rend_escolas_2022_df.index[:8]) \n",
    "rend_escolas_2022_df = rend_escolas_2022_df.drop(rend_escolas_2022_df.index[-2:])\n",
    "\n",
    "rend_escolas_2022_df.reset_index(drop=True, inplace=True) "
   ]
  },
  {
   "cell_type": "markdown",
   "metadata": {},
   "source": [
    "#### 6. Retirada do ponto e retorno da parte anterior ao ponto no código das escolas, para esses dados ficarem no mesmo modelo em ambos dataframes.\n",
    "#### 7. Conversão das colunas `3_CAT_FUN` e `3_CAT_MED` para valores numéricos e tornando NaN os dados que não são numéricos.\n",
    "#### 8. Conversão das colunas `2_CAT_FUN` e `2_CAT_MED` para valores numéricos e tornando NaN os dados que não são numéricos.\n",
    "#### 9. Descartando as linhas com NaN resultantes das conversões.\n",
    "#### 10. Criação de duas novas colunas que irão receber a média entre as taxas de abandono e as taxas de reprovação do ensino fundamental e médio."
   ]
  },
  {
   "cell_type": "code",
   "execution_count": 6,
   "metadata": {},
   "outputs": [],
   "source": [
    "rend_escolas_2022_df['CO_ENTIDADE'] = rend_escolas_2022_df['CO_ENTIDADE'].astype(str).str.partition('.')[0] \n",
    "\n",
    "rend_escolas_2022_df['3_CAT_FUN'] = pd.to_numeric(rend_escolas_2022_df['3_CAT_FUN'], errors='coerce') # taxa de abandono ensino fundamental\n",
    "rend_escolas_2022_df['3_CAT_MED'] = pd.to_numeric(rend_escolas_2022_df['3_CAT_MED'], errors='coerce') # taxa de abandono ensino médio\n",
    "\n",
    "rend_escolas_2022_df['2_CAT_FUN'] = pd.to_numeric(rend_escolas_2022_df['2_CAT_FUN'], errors='coerce') # taxa de reprovação ensino fundamental\n",
    "rend_escolas_2022_df['2_CAT_MED'] = pd.to_numeric(rend_escolas_2022_df['2_CAT_MED'], errors='coerce') # taxa de reprovação ensino médio\n",
    "\n",
    "rend_escolas_2022_df.dropna(subset=['3_CAT_FUN', '3_CAT_MED', '2_CAT_FUN', '2_CAT_MED'], inplace=True)\n",
    "\n",
    "rend_escolas_2022_df['taxa_de_abandono'] = round((rend_escolas_2022_df[['3_CAT_FUN', '3_CAT_MED']].mean(axis=1)), 2)\n",
    "rend_escolas_2022_df['taxa_de_reprovacao'] = round((rend_escolas_2022_df[['2_CAT_FUN', '2_CAT_MED']].mean(axis=1)), 2)"
   ]
  },
  {
   "cell_type": "markdown",
   "metadata": {},
   "source": [
    "#### 11. Seleção das colunas necessárias.\n",
    "#### 12. Renomeação das colunas `CO_ENTIDADE` e `NO_REGIAO` para melhor compreensão.\n",
    "#### 13. Verificação de dados nulos na coluna `taxa_de_abandono` e `taxa_de_reprovacao`."
   ]
  },
  {
   "cell_type": "code",
   "execution_count": 7,
   "metadata": {},
   "outputs": [
    {
     "data": {
      "text/markdown": [
       "### Quantidade de dados nulos na coluna **taxa_de_abandono**: **0**"
      ],
      "text/plain": [
       "<IPython.core.display.Markdown object>"
      ]
     },
     "metadata": {},
     "output_type": "display_data"
    },
    {
     "data": {
      "text/markdown": [
       "### Quantidade de dados nulos na coluna **taxa_de_reprovacao**: **0**"
      ],
      "text/plain": [
       "<IPython.core.display.Markdown object>"
      ]
     },
     "metadata": {},
     "output_type": "display_data"
    }
   ],
   "source": [
    "rend_escolas_2022_df = rend_escolas_2022_df[['CO_ENTIDADE', 'NO_REGIAO', 'taxa_de_abandono', 'taxa_de_reprovacao']] \n",
    "\n",
    "rend_escolas_2022_df = rend_escolas_2022_df.rename(columns={'CO_ENTIDADE':'codigo_escola', 'NO_REGIAO': 'regiao'}) \n",
    "\n",
    "def verificar_dados_nulos(*colunas):\n",
    "    for coluna in colunas:\n",
    "        efetuacao_dados_nulos = rend_escolas_2022_df[coluna].isnull().sum()\n",
    "        display(Markdown(f\"### Quantidade de dados nulos na coluna **{coluna}**: **{efetuacao_dados_nulos}**\"))\n",
    "verificar_dados_nulos('taxa_de_abandono', 'taxa_de_reprovacao')"
   ]
  },
  {
   "cell_type": "markdown",
   "metadata": {},
   "source": [
    "#### 14. Visualização dos dados. "
   ]
  },
  {
   "cell_type": "code",
   "execution_count": 8,
   "metadata": {},
   "outputs": [
    {
     "data": {
      "text/html": [
       "<div>\n",
       "<style scoped>\n",
       "    .dataframe tbody tr th:only-of-type {\n",
       "        vertical-align: middle;\n",
       "    }\n",
       "\n",
       "    .dataframe tbody tr th {\n",
       "        vertical-align: top;\n",
       "    }\n",
       "\n",
       "    .dataframe thead th {\n",
       "        text-align: right;\n",
       "    }\n",
       "</style>\n",
       "<table border=\"1\" class=\"dataframe\">\n",
       "  <thead>\n",
       "    <tr style=\"text-align: right;\">\n",
       "      <th></th>\n",
       "      <th>codigo_escola</th>\n",
       "      <th>regiao</th>\n",
       "      <th>taxa_de_abandono</th>\n",
       "      <th>taxa_de_reprovacao</th>\n",
       "    </tr>\n",
       "  </thead>\n",
       "  <tbody>\n",
       "    <tr>\n",
       "      <th>4</th>\n",
       "      <td>11024682</td>\n",
       "      <td>Norte</td>\n",
       "      <td>4.55</td>\n",
       "      <td>3.30</td>\n",
       "    </tr>\n",
       "    <tr>\n",
       "      <th>7</th>\n",
       "      <td>11024968</td>\n",
       "      <td>Norte</td>\n",
       "      <td>4.30</td>\n",
       "      <td>0.55</td>\n",
       "    </tr>\n",
       "    <tr>\n",
       "      <th>15</th>\n",
       "      <td>11025638</td>\n",
       "      <td>Norte</td>\n",
       "      <td>2.00</td>\n",
       "      <td>2.50</td>\n",
       "    </tr>\n",
       "    <tr>\n",
       "      <th>17</th>\n",
       "      <td>11037962</td>\n",
       "      <td>Norte</td>\n",
       "      <td>0.00</td>\n",
       "      <td>15.50</td>\n",
       "    </tr>\n",
       "    <tr>\n",
       "      <th>19</th>\n",
       "      <td>11038373</td>\n",
       "      <td>Norte</td>\n",
       "      <td>0.00</td>\n",
       "      <td>25.75</td>\n",
       "    </tr>\n",
       "    <tr>\n",
       "      <th>...</th>\n",
       "      <td>...</td>\n",
       "      <td>...</td>\n",
       "      <td>...</td>\n",
       "      <td>...</td>\n",
       "    </tr>\n",
       "    <tr>\n",
       "      <th>129281</th>\n",
       "      <td>53068068</td>\n",
       "      <td>Centro-Oeste</td>\n",
       "      <td>5.00</td>\n",
       "      <td>5.70</td>\n",
       "    </tr>\n",
       "    <tr>\n",
       "      <th>129293</th>\n",
       "      <td>53068181</td>\n",
       "      <td>Centro-Oeste</td>\n",
       "      <td>0.00</td>\n",
       "      <td>12.85</td>\n",
       "    </tr>\n",
       "    <tr>\n",
       "      <th>129300</th>\n",
       "      <td>53082001</td>\n",
       "      <td>Centro-Oeste</td>\n",
       "      <td>0.00</td>\n",
       "      <td>1.35</td>\n",
       "    </tr>\n",
       "    <tr>\n",
       "      <th>129304</th>\n",
       "      <td>53084055</td>\n",
       "      <td>Centro-Oeste</td>\n",
       "      <td>0.00</td>\n",
       "      <td>0.20</td>\n",
       "    </tr>\n",
       "    <tr>\n",
       "      <th>129306</th>\n",
       "      <td>53086007</td>\n",
       "      <td>Centro-Oeste</td>\n",
       "      <td>0.30</td>\n",
       "      <td>10.05</td>\n",
       "    </tr>\n",
       "  </tbody>\n",
       "</table>\n",
       "<p>20774 rows × 4 columns</p>\n",
       "</div>"
      ],
      "text/plain": [
       "       codigo_escola        regiao  taxa_de_abandono  taxa_de_reprovacao\n",
       "4           11024682         Norte              4.55                3.30\n",
       "7           11024968         Norte              4.30                0.55\n",
       "15          11025638         Norte              2.00                2.50\n",
       "17          11037962         Norte              0.00               15.50\n",
       "19          11038373         Norte              0.00               25.75\n",
       "...              ...           ...               ...                 ...\n",
       "129281      53068068  Centro-Oeste              5.00                5.70\n",
       "129293      53068181  Centro-Oeste              0.00               12.85\n",
       "129300      53082001  Centro-Oeste              0.00                1.35\n",
       "129304      53084055  Centro-Oeste              0.00                0.20\n",
       "129306      53086007  Centro-Oeste              0.30               10.05\n",
       "\n",
       "[20774 rows x 4 columns]"
      ]
     },
     "execution_count": 8,
     "metadata": {},
     "output_type": "execute_result"
    }
   ],
   "source": [
    "rend_escolas_2022_df"
   ]
  },
  {
   "cell_type": "markdown",
   "metadata": {},
   "source": [
    "### `microdados_ed_basica_2022`:\n",
    "#### 1. Fazendo uma cópia do arquivo original para facilitar na produção do projeto. \n",
    "#### 2. Transformação da coluna `CO_ENTIDADE` em string para se igualar ao outro dataframe. "
   ]
  },
  {
   "cell_type": "code",
   "execution_count": 9,
   "metadata": {},
   "outputs": [],
   "source": [
    "ed_basica_2022_df = ed_basica_2022_original_df.copy()\n",
    "\n",
    "ed_basica_2022_df['CO_ENTIDADE'] = ed_basica_2022_df['CO_ENTIDADE'].astype(str)"
   ]
  },
  {
   "cell_type": "markdown",
   "metadata": {},
   "source": [
    "#### 3. Selecão das colunas necessárias.\n",
    "#### 4. Renomeação das colunas para melhor compreensão.\n",
    "- Dicionário: Dados das colunas: `IN_AGUA_POTAVEL`, `IN_ENERGIA_REDE_PUBLICA`,\n",
    "                                       `IN_ESGOTO_REDE_PUBLICA`, `IN_LIXO_SERVICO_COLETA`, `IN_BIBLIOTECA_SALA_LEITURA`, `IN_TRATAMENTO_LIXO_INEXISTENTE`, `IN_INTERNET`,\n",
    "                                       `IN_COMPUTADOR`, `IN_LABORATORIO_CIENCIAS`, `IN_LABORATORIO_INFORMATICA`, `IN_ESP`, `IN_ALIMENTACAO`, `IN_ACESSIBILIDADE_INEXISTENTE` = 0 : não, 1: sim"
   ]
  },
  {
   "cell_type": "code",
   "execution_count": 11,
   "metadata": {},
   "outputs": [
    {
     "data": {
      "text/html": [
       "<div>\n",
       "<style scoped>\n",
       "    .dataframe tbody tr th:only-of-type {\n",
       "        vertical-align: middle;\n",
       "    }\n",
       "\n",
       "    .dataframe tbody tr th {\n",
       "        vertical-align: top;\n",
       "    }\n",
       "\n",
       "    .dataframe thead th {\n",
       "        text-align: right;\n",
       "    }\n",
       "</style>\n",
       "<table border=\"1\" class=\"dataframe\">\n",
       "  <thead>\n",
       "    <tr style=\"text-align: right;\">\n",
       "      <th></th>\n",
       "      <th>codigo_escola</th>\n",
       "      <th>regiao</th>\n",
       "      <th>agua_filtrada</th>\n",
       "      <th>energia</th>\n",
       "      <th>saneamento_basico</th>\n",
       "      <th>coleta_de_lixo</th>\n",
       "      <th>biblioteca_sala_leitura</th>\n",
       "      <th>tratamento_de_lixo</th>\n",
       "      <th>internet</th>\n",
       "      <th>computador</th>\n",
       "      <th>tipo_localizacao</th>\n",
       "      <th>localizacao_diferenciada</th>\n",
       "      <th>laboratorio_ciencias</th>\n",
       "      <th>tipo_de_dependencia</th>\n",
       "      <th>laboratorio_informatica</th>\n",
       "      <th>educacao_especial</th>\n",
       "      <th>alimentacao</th>\n",
       "      <th>nenhuma_acessibilidade</th>\n",
       "    </tr>\n",
       "  </thead>\n",
       "  <tbody>\n",
       "    <tr>\n",
       "      <th>0</th>\n",
       "      <td>11022558</td>\n",
       "      <td>Norte</td>\n",
       "      <td>1.0</td>\n",
       "      <td>0.0</td>\n",
       "      <td>0.0</td>\n",
       "      <td>0.0</td>\n",
       "      <td>0.0</td>\n",
       "      <td>1.0</td>\n",
       "      <td>0.0</td>\n",
       "      <td>0.0</td>\n",
       "      <td>2</td>\n",
       "      <td>2.0</td>\n",
       "      <td>0.0</td>\n",
       "      <td>2</td>\n",
       "      <td>0.0</td>\n",
       "      <td>0.0</td>\n",
       "      <td>1.0</td>\n",
       "      <td>1.0</td>\n",
       "    </tr>\n",
       "    <tr>\n",
       "      <th>1</th>\n",
       "      <td>11024275</td>\n",
       "      <td>Norte</td>\n",
       "      <td>1.0</td>\n",
       "      <td>1.0</td>\n",
       "      <td>0.0</td>\n",
       "      <td>1.0</td>\n",
       "      <td>1.0</td>\n",
       "      <td>1.0</td>\n",
       "      <td>1.0</td>\n",
       "      <td>1.0</td>\n",
       "      <td>1</td>\n",
       "      <td>0.0</td>\n",
       "      <td>1.0</td>\n",
       "      <td>2</td>\n",
       "      <td>1.0</td>\n",
       "      <td>1.0</td>\n",
       "      <td>1.0</td>\n",
       "      <td>0.0</td>\n",
       "    </tr>\n",
       "    <tr>\n",
       "      <th>2</th>\n",
       "      <td>11024291</td>\n",
       "      <td>Norte</td>\n",
       "      <td>1.0</td>\n",
       "      <td>1.0</td>\n",
       "      <td>0.0</td>\n",
       "      <td>0.0</td>\n",
       "      <td>0.0</td>\n",
       "      <td>1.0</td>\n",
       "      <td>0.0</td>\n",
       "      <td>0.0</td>\n",
       "      <td>2</td>\n",
       "      <td>0.0</td>\n",
       "      <td>0.0</td>\n",
       "      <td>3</td>\n",
       "      <td>0.0</td>\n",
       "      <td>0.0</td>\n",
       "      <td>1.0</td>\n",
       "      <td>1.0</td>\n",
       "    </tr>\n",
       "    <tr>\n",
       "      <th>3</th>\n",
       "      <td>11024372</td>\n",
       "      <td>Norte</td>\n",
       "      <td>1.0</td>\n",
       "      <td>1.0</td>\n",
       "      <td>0.0</td>\n",
       "      <td>1.0</td>\n",
       "      <td>1.0</td>\n",
       "      <td>1.0</td>\n",
       "      <td>1.0</td>\n",
       "      <td>1.0</td>\n",
       "      <td>1</td>\n",
       "      <td>0.0</td>\n",
       "      <td>0.0</td>\n",
       "      <td>3</td>\n",
       "      <td>0.0</td>\n",
       "      <td>1.0</td>\n",
       "      <td>1.0</td>\n",
       "      <td>1.0</td>\n",
       "    </tr>\n",
       "    <tr>\n",
       "      <th>4</th>\n",
       "      <td>11024666</td>\n",
       "      <td>Norte</td>\n",
       "      <td>1.0</td>\n",
       "      <td>1.0</td>\n",
       "      <td>0.0</td>\n",
       "      <td>0.0</td>\n",
       "      <td>0.0</td>\n",
       "      <td>1.0</td>\n",
       "      <td>1.0</td>\n",
       "      <td>0.0</td>\n",
       "      <td>2</td>\n",
       "      <td>0.0</td>\n",
       "      <td>0.0</td>\n",
       "      <td>3</td>\n",
       "      <td>0.0</td>\n",
       "      <td>1.0</td>\n",
       "      <td>1.0</td>\n",
       "      <td>1.0</td>\n",
       "    </tr>\n",
       "    <tr>\n",
       "      <th>...</th>\n",
       "      <td>...</td>\n",
       "      <td>...</td>\n",
       "      <td>...</td>\n",
       "      <td>...</td>\n",
       "      <td>...</td>\n",
       "      <td>...</td>\n",
       "      <td>...</td>\n",
       "      <td>...</td>\n",
       "      <td>...</td>\n",
       "      <td>...</td>\n",
       "      <td>...</td>\n",
       "      <td>...</td>\n",
       "      <td>...</td>\n",
       "      <td>...</td>\n",
       "      <td>...</td>\n",
       "      <td>...</td>\n",
       "      <td>...</td>\n",
       "      <td>...</td>\n",
       "    </tr>\n",
       "    <tr>\n",
       "      <th>224644</th>\n",
       "      <td>53086007</td>\n",
       "      <td>Centro-Oeste</td>\n",
       "      <td>1.0</td>\n",
       "      <td>1.0</td>\n",
       "      <td>0.0</td>\n",
       "      <td>1.0</td>\n",
       "      <td>0.0</td>\n",
       "      <td>0.0</td>\n",
       "      <td>1.0</td>\n",
       "      <td>1.0</td>\n",
       "      <td>1</td>\n",
       "      <td>0.0</td>\n",
       "      <td>0.0</td>\n",
       "      <td>4</td>\n",
       "      <td>0.0</td>\n",
       "      <td>1.0</td>\n",
       "      <td>0.0</td>\n",
       "      <td>0.0</td>\n",
       "    </tr>\n",
       "    <tr>\n",
       "      <th>224645</th>\n",
       "      <td>53087003</td>\n",
       "      <td>Centro-Oeste</td>\n",
       "      <td>NaN</td>\n",
       "      <td>NaN</td>\n",
       "      <td>NaN</td>\n",
       "      <td>NaN</td>\n",
       "      <td>NaN</td>\n",
       "      <td>NaN</td>\n",
       "      <td>NaN</td>\n",
       "      <td>NaN</td>\n",
       "      <td>1</td>\n",
       "      <td>NaN</td>\n",
       "      <td>NaN</td>\n",
       "      <td>4</td>\n",
       "      <td>NaN</td>\n",
       "      <td>NaN</td>\n",
       "      <td>NaN</td>\n",
       "      <td>NaN</td>\n",
       "    </tr>\n",
       "    <tr>\n",
       "      <th>224646</th>\n",
       "      <td>53087011</td>\n",
       "      <td>Centro-Oeste</td>\n",
       "      <td>NaN</td>\n",
       "      <td>NaN</td>\n",
       "      <td>NaN</td>\n",
       "      <td>NaN</td>\n",
       "      <td>NaN</td>\n",
       "      <td>NaN</td>\n",
       "      <td>NaN</td>\n",
       "      <td>NaN</td>\n",
       "      <td>1</td>\n",
       "      <td>NaN</td>\n",
       "      <td>NaN</td>\n",
       "      <td>4</td>\n",
       "      <td>NaN</td>\n",
       "      <td>NaN</td>\n",
       "      <td>NaN</td>\n",
       "      <td>NaN</td>\n",
       "    </tr>\n",
       "    <tr>\n",
       "      <th>224647</th>\n",
       "      <td>53088000</td>\n",
       "      <td>Centro-Oeste</td>\n",
       "      <td>NaN</td>\n",
       "      <td>NaN</td>\n",
       "      <td>NaN</td>\n",
       "      <td>NaN</td>\n",
       "      <td>NaN</td>\n",
       "      <td>NaN</td>\n",
       "      <td>NaN</td>\n",
       "      <td>NaN</td>\n",
       "      <td>1</td>\n",
       "      <td>NaN</td>\n",
       "      <td>NaN</td>\n",
       "      <td>4</td>\n",
       "      <td>NaN</td>\n",
       "      <td>NaN</td>\n",
       "      <td>NaN</td>\n",
       "      <td>NaN</td>\n",
       "    </tr>\n",
       "    <tr>\n",
       "      <th>224648</th>\n",
       "      <td>53088034</td>\n",
       "      <td>Centro-Oeste</td>\n",
       "      <td>NaN</td>\n",
       "      <td>NaN</td>\n",
       "      <td>NaN</td>\n",
       "      <td>NaN</td>\n",
       "      <td>NaN</td>\n",
       "      <td>NaN</td>\n",
       "      <td>NaN</td>\n",
       "      <td>NaN</td>\n",
       "      <td>1</td>\n",
       "      <td>NaN</td>\n",
       "      <td>NaN</td>\n",
       "      <td>4</td>\n",
       "      <td>NaN</td>\n",
       "      <td>NaN</td>\n",
       "      <td>NaN</td>\n",
       "      <td>NaN</td>\n",
       "    </tr>\n",
       "  </tbody>\n",
       "</table>\n",
       "<p>224649 rows × 18 columns</p>\n",
       "</div>"
      ],
      "text/plain": [
       "       codigo_escola        regiao  agua_filtrada  energia  saneamento_basico  \\\n",
       "0           11022558         Norte            1.0      0.0                0.0   \n",
       "1           11024275         Norte            1.0      1.0                0.0   \n",
       "2           11024291         Norte            1.0      1.0                0.0   \n",
       "3           11024372         Norte            1.0      1.0                0.0   \n",
       "4           11024666         Norte            1.0      1.0                0.0   \n",
       "...              ...           ...            ...      ...                ...   \n",
       "224644      53086007  Centro-Oeste            1.0      1.0                0.0   \n",
       "224645      53087003  Centro-Oeste            NaN      NaN                NaN   \n",
       "224646      53087011  Centro-Oeste            NaN      NaN                NaN   \n",
       "224647      53088000  Centro-Oeste            NaN      NaN                NaN   \n",
       "224648      53088034  Centro-Oeste            NaN      NaN                NaN   \n",
       "\n",
       "        coleta_de_lixo  biblioteca_sala_leitura  tratamento_de_lixo  internet  \\\n",
       "0                  0.0                      0.0                 1.0       0.0   \n",
       "1                  1.0                      1.0                 1.0       1.0   \n",
       "2                  0.0                      0.0                 1.0       0.0   \n",
       "3                  1.0                      1.0                 1.0       1.0   \n",
       "4                  0.0                      0.0                 1.0       1.0   \n",
       "...                ...                      ...                 ...       ...   \n",
       "224644             1.0                      0.0                 0.0       1.0   \n",
       "224645             NaN                      NaN                 NaN       NaN   \n",
       "224646             NaN                      NaN                 NaN       NaN   \n",
       "224647             NaN                      NaN                 NaN       NaN   \n",
       "224648             NaN                      NaN                 NaN       NaN   \n",
       "\n",
       "        computador  tipo_localizacao  localizacao_diferenciada  \\\n",
       "0              0.0                 2                       2.0   \n",
       "1              1.0                 1                       0.0   \n",
       "2              0.0                 2                       0.0   \n",
       "3              1.0                 1                       0.0   \n",
       "4              0.0                 2                       0.0   \n",
       "...            ...               ...                       ...   \n",
       "224644         1.0                 1                       0.0   \n",
       "224645         NaN                 1                       NaN   \n",
       "224646         NaN                 1                       NaN   \n",
       "224647         NaN                 1                       NaN   \n",
       "224648         NaN                 1                       NaN   \n",
       "\n",
       "        laboratorio_ciencias  tipo_de_dependencia  laboratorio_informatica  \\\n",
       "0                        0.0                    2                      0.0   \n",
       "1                        1.0                    2                      1.0   \n",
       "2                        0.0                    3                      0.0   \n",
       "3                        0.0                    3                      0.0   \n",
       "4                        0.0                    3                      0.0   \n",
       "...                      ...                  ...                      ...   \n",
       "224644                   0.0                    4                      0.0   \n",
       "224645                   NaN                    4                      NaN   \n",
       "224646                   NaN                    4                      NaN   \n",
       "224647                   NaN                    4                      NaN   \n",
       "224648                   NaN                    4                      NaN   \n",
       "\n",
       "        educacao_especial  alimentacao  nenhuma_acessibilidade  \n",
       "0                     0.0          1.0                     1.0  \n",
       "1                     1.0          1.0                     0.0  \n",
       "2                     0.0          1.0                     1.0  \n",
       "3                     1.0          1.0                     1.0  \n",
       "4                     1.0          1.0                     1.0  \n",
       "...                   ...          ...                     ...  \n",
       "224644                1.0          0.0                     0.0  \n",
       "224645                NaN          NaN                     NaN  \n",
       "224646                NaN          NaN                     NaN  \n",
       "224647                NaN          NaN                     NaN  \n",
       "224648                NaN          NaN                     NaN  \n",
       "\n",
       "[224649 rows x 18 columns]"
      ]
     },
     "execution_count": 11,
     "metadata": {},
     "output_type": "execute_result"
    }
   ],
   "source": [
    "ed_basica_2022_df = ed_basica_2022_df[['CO_ENTIDADE', 'NO_REGIAO', 'IN_AGUA_POTAVEL', 'IN_ENERGIA_REDE_PUBLICA',\n",
    "                                       'IN_ESGOTO_REDE_PUBLICA', 'IN_LIXO_SERVICO_COLETA', 'IN_BIBLIOTECA_SALA_LEITURA', 'IN_TRATAMENTO_LIXO_INEXISTENTE', 'IN_INTERNET',\n",
    "                                       'IN_COMPUTADOR', 'TP_LOCALIZACAO', 'TP_LOCALIZACAO_DIFERENCIADA', 'IN_LABORATORIO_CIENCIAS', 'TP_DEPENDENCIA', 'IN_LABORATORIO_INFORMATICA', 'IN_ESP', 'IN_ALIMENTACAO', 'IN_ACESSIBILIDADE_INEXISTENTE']]\n",
    "ed_basica_2022_df = ed_basica_2022_df.rename(columns={'CO_ENTIDADE':'codigo_escola',\n",
    "                                                      'NO_REGIAO': 'regiao',\n",
    "                                                      'IN_TRATAMENTO_LIXO_INEXISTENTE': 'tratamento_de_lixo',\n",
    "                                                      'IN_BIBLIOTECA_SALA_LEITURA': 'biblioteca_sala_leitura',\n",
    "                                                      'IN_AGUA_POTAVEL':'agua_filtrada', \n",
    "                                                      'IN_ENERGIA_REDE_PUBLICA':'energia',\n",
    "                                                      'IN_ESP': 'educacao_especial',\n",
    "                                                      'IN_ESGOTO_REDE_PUBLICA':'saneamento_basico',\n",
    "                                                      'IN_LIXO_SERVICO_COLETA':'coleta_de_lixo',\n",
    "                                                      'TP_DEPENDENCIA': 'tipo_de_dependencia',\n",
    "                                                      'IN_LABORATORIO_CIENCIAS': 'laboratorio_ciencias',\n",
    "                                                      'IN_COMPUTADOR': 'computador',\n",
    "                                                      'TP_LOCALIZACAO': 'tipo_localizacao', \n",
    "                                                      'TP_LOCALIZACAO_DIFERENCIADA': 'localizacao_diferenciada',\n",
    "                                                      'IN_LABORATORIO_INFORMATICA': 'laboratorio_informatica',\n",
    "                                                      'IN_INTERNET':'internet',\n",
    "                                                      'IN_ALIMENTACAO':'alimentacao',\n",
    "                                                      'IN_ACESSIBILIDADE_INEXISTENTE':'nenhuma_acessibilidade'})\n",
    "\n",
    "ed_basica_2022_df"
   ]
  },
  {
   "cell_type": "markdown",
   "metadata": {},
   "source": [
    "### Verificação se há códigos de escolas duplicadas"
   ]
  },
  {
   "cell_type": "code",
   "execution_count": 12,
   "metadata": {},
   "outputs": [
    {
     "data": {
      "text/markdown": [
       "#### Quantidade de códigos de escolas duplicados no dataframe `rend_escolas_2022_df`: 0"
      ],
      "text/plain": [
       "<IPython.core.display.Markdown object>"
      ]
     },
     "metadata": {},
     "output_type": "display_data"
    },
    {
     "data": {
      "text/markdown": [
       "#### Quantidade de códigos de escolas duplicados no dataframe `ed_basica_2022_df`: 0"
      ],
      "text/plain": [
       "<IPython.core.display.Markdown object>"
      ]
     },
     "metadata": {},
     "output_type": "display_data"
    }
   ],
   "source": [
    "display(Markdown(f\"#### Quantidade de códigos de escolas duplicados no dataframe `rend_escolas_2022_df`: {rend_escolas_2022_df['codigo_escola'].duplicated().sum()}\"))\n",
    "display(Markdown(f\"#### Quantidade de códigos de escolas duplicados no dataframe `ed_basica_2022_df`: {ed_basica_2022_df['codigo_escola'].duplicated().sum()}\"))"
   ]
  },
  {
   "cell_type": "markdown",
   "metadata": {},
   "source": [
    "## 🧱 Manipulação dos dados\n",
    "#### 1. Mesclando um dataset com outro por meio de `outer` para mesclar dados que estão em ambos dataframes e não perder dados de escolas que estão presentes em apenas um dataframe."
   ]
  },
  {
   "cell_type": "code",
   "execution_count": 13,
   "metadata": {},
   "outputs": [
    {
     "data": {
      "text/html": [
       "<div>\n",
       "<style scoped>\n",
       "    .dataframe tbody tr th:only-of-type {\n",
       "        vertical-align: middle;\n",
       "    }\n",
       "\n",
       "    .dataframe tbody tr th {\n",
       "        vertical-align: top;\n",
       "    }\n",
       "\n",
       "    .dataframe thead th {\n",
       "        text-align: right;\n",
       "    }\n",
       "</style>\n",
       "<table border=\"1\" class=\"dataframe\">\n",
       "  <thead>\n",
       "    <tr style=\"text-align: right;\">\n",
       "      <th></th>\n",
       "      <th>codigo_escola</th>\n",
       "      <th>regiao_x</th>\n",
       "      <th>taxa_de_abandono</th>\n",
       "      <th>taxa_de_reprovacao</th>\n",
       "      <th>regiao_y</th>\n",
       "      <th>agua_filtrada</th>\n",
       "      <th>energia</th>\n",
       "      <th>saneamento_basico</th>\n",
       "      <th>coleta_de_lixo</th>\n",
       "      <th>biblioteca_sala_leitura</th>\n",
       "      <th>...</th>\n",
       "      <th>internet</th>\n",
       "      <th>computador</th>\n",
       "      <th>tipo_localizacao</th>\n",
       "      <th>localizacao_diferenciada</th>\n",
       "      <th>laboratorio_ciencias</th>\n",
       "      <th>tipo_de_dependencia</th>\n",
       "      <th>laboratorio_informatica</th>\n",
       "      <th>educacao_especial</th>\n",
       "      <th>alimentacao</th>\n",
       "      <th>nenhuma_acessibilidade</th>\n",
       "    </tr>\n",
       "  </thead>\n",
       "  <tbody>\n",
       "    <tr>\n",
       "      <th>0</th>\n",
       "      <td>11024682</td>\n",
       "      <td>Norte</td>\n",
       "      <td>4.55</td>\n",
       "      <td>3.30</td>\n",
       "      <td>Norte</td>\n",
       "      <td>1.0</td>\n",
       "      <td>1.0</td>\n",
       "      <td>0.0</td>\n",
       "      <td>1.0</td>\n",
       "      <td>1.0</td>\n",
       "      <td>...</td>\n",
       "      <td>1.0</td>\n",
       "      <td>1.0</td>\n",
       "      <td>1</td>\n",
       "      <td>0.0</td>\n",
       "      <td>0.0</td>\n",
       "      <td>2</td>\n",
       "      <td>1.0</td>\n",
       "      <td>1.0</td>\n",
       "      <td>1.0</td>\n",
       "      <td>0.0</td>\n",
       "    </tr>\n",
       "    <tr>\n",
       "      <th>1</th>\n",
       "      <td>11024968</td>\n",
       "      <td>Norte</td>\n",
       "      <td>4.30</td>\n",
       "      <td>0.55</td>\n",
       "      <td>Norte</td>\n",
       "      <td>1.0</td>\n",
       "      <td>1.0</td>\n",
       "      <td>0.0</td>\n",
       "      <td>1.0</td>\n",
       "      <td>1.0</td>\n",
       "      <td>...</td>\n",
       "      <td>1.0</td>\n",
       "      <td>1.0</td>\n",
       "      <td>1</td>\n",
       "      <td>0.0</td>\n",
       "      <td>1.0</td>\n",
       "      <td>2</td>\n",
       "      <td>1.0</td>\n",
       "      <td>1.0</td>\n",
       "      <td>1.0</td>\n",
       "      <td>0.0</td>\n",
       "    </tr>\n",
       "    <tr>\n",
       "      <th>2</th>\n",
       "      <td>11025638</td>\n",
       "      <td>Norte</td>\n",
       "      <td>2.00</td>\n",
       "      <td>2.50</td>\n",
       "      <td>Norte</td>\n",
       "      <td>1.0</td>\n",
       "      <td>1.0</td>\n",
       "      <td>0.0</td>\n",
       "      <td>1.0</td>\n",
       "      <td>1.0</td>\n",
       "      <td>...</td>\n",
       "      <td>1.0</td>\n",
       "      <td>1.0</td>\n",
       "      <td>1</td>\n",
       "      <td>0.0</td>\n",
       "      <td>1.0</td>\n",
       "      <td>2</td>\n",
       "      <td>1.0</td>\n",
       "      <td>1.0</td>\n",
       "      <td>1.0</td>\n",
       "      <td>0.0</td>\n",
       "    </tr>\n",
       "    <tr>\n",
       "      <th>3</th>\n",
       "      <td>11037962</td>\n",
       "      <td>Norte</td>\n",
       "      <td>0.00</td>\n",
       "      <td>15.50</td>\n",
       "      <td>Norte</td>\n",
       "      <td>1.0</td>\n",
       "      <td>0.0</td>\n",
       "      <td>0.0</td>\n",
       "      <td>0.0</td>\n",
       "      <td>0.0</td>\n",
       "      <td>...</td>\n",
       "      <td>1.0</td>\n",
       "      <td>0.0</td>\n",
       "      <td>2</td>\n",
       "      <td>2.0</td>\n",
       "      <td>0.0</td>\n",
       "      <td>2</td>\n",
       "      <td>0.0</td>\n",
       "      <td>0.0</td>\n",
       "      <td>1.0</td>\n",
       "      <td>1.0</td>\n",
       "    </tr>\n",
       "    <tr>\n",
       "      <th>4</th>\n",
       "      <td>11038373</td>\n",
       "      <td>Norte</td>\n",
       "      <td>0.00</td>\n",
       "      <td>25.75</td>\n",
       "      <td>Norte</td>\n",
       "      <td>1.0</td>\n",
       "      <td>1.0</td>\n",
       "      <td>0.0</td>\n",
       "      <td>0.0</td>\n",
       "      <td>0.0</td>\n",
       "      <td>...</td>\n",
       "      <td>1.0</td>\n",
       "      <td>0.0</td>\n",
       "      <td>2</td>\n",
       "      <td>2.0</td>\n",
       "      <td>0.0</td>\n",
       "      <td>2</td>\n",
       "      <td>0.0</td>\n",
       "      <td>0.0</td>\n",
       "      <td>1.0</td>\n",
       "      <td>1.0</td>\n",
       "    </tr>\n",
       "    <tr>\n",
       "      <th>...</th>\n",
       "      <td>...</td>\n",
       "      <td>...</td>\n",
       "      <td>...</td>\n",
       "      <td>...</td>\n",
       "      <td>...</td>\n",
       "      <td>...</td>\n",
       "      <td>...</td>\n",
       "      <td>...</td>\n",
       "      <td>...</td>\n",
       "      <td>...</td>\n",
       "      <td>...</td>\n",
       "      <td>...</td>\n",
       "      <td>...</td>\n",
       "      <td>...</td>\n",
       "      <td>...</td>\n",
       "      <td>...</td>\n",
       "      <td>...</td>\n",
       "      <td>...</td>\n",
       "      <td>...</td>\n",
       "      <td>...</td>\n",
       "      <td>...</td>\n",
       "    </tr>\n",
       "    <tr>\n",
       "      <th>224644</th>\n",
       "      <td>53085000</td>\n",
       "      <td>NaN</td>\n",
       "      <td>NaN</td>\n",
       "      <td>NaN</td>\n",
       "      <td>Centro-Oeste</td>\n",
       "      <td>1.0</td>\n",
       "      <td>1.0</td>\n",
       "      <td>1.0</td>\n",
       "      <td>1.0</td>\n",
       "      <td>1.0</td>\n",
       "      <td>...</td>\n",
       "      <td>1.0</td>\n",
       "      <td>1.0</td>\n",
       "      <td>1</td>\n",
       "      <td>0.0</td>\n",
       "      <td>1.0</td>\n",
       "      <td>4</td>\n",
       "      <td>1.0</td>\n",
       "      <td>1.0</td>\n",
       "      <td>0.0</td>\n",
       "      <td>0.0</td>\n",
       "    </tr>\n",
       "    <tr>\n",
       "      <th>224645</th>\n",
       "      <td>53087003</td>\n",
       "      <td>NaN</td>\n",
       "      <td>NaN</td>\n",
       "      <td>NaN</td>\n",
       "      <td>Centro-Oeste</td>\n",
       "      <td>NaN</td>\n",
       "      <td>NaN</td>\n",
       "      <td>NaN</td>\n",
       "      <td>NaN</td>\n",
       "      <td>NaN</td>\n",
       "      <td>...</td>\n",
       "      <td>NaN</td>\n",
       "      <td>NaN</td>\n",
       "      <td>1</td>\n",
       "      <td>NaN</td>\n",
       "      <td>NaN</td>\n",
       "      <td>4</td>\n",
       "      <td>NaN</td>\n",
       "      <td>NaN</td>\n",
       "      <td>NaN</td>\n",
       "      <td>NaN</td>\n",
       "    </tr>\n",
       "    <tr>\n",
       "      <th>224646</th>\n",
       "      <td>53087011</td>\n",
       "      <td>NaN</td>\n",
       "      <td>NaN</td>\n",
       "      <td>NaN</td>\n",
       "      <td>Centro-Oeste</td>\n",
       "      <td>NaN</td>\n",
       "      <td>NaN</td>\n",
       "      <td>NaN</td>\n",
       "      <td>NaN</td>\n",
       "      <td>NaN</td>\n",
       "      <td>...</td>\n",
       "      <td>NaN</td>\n",
       "      <td>NaN</td>\n",
       "      <td>1</td>\n",
       "      <td>NaN</td>\n",
       "      <td>NaN</td>\n",
       "      <td>4</td>\n",
       "      <td>NaN</td>\n",
       "      <td>NaN</td>\n",
       "      <td>NaN</td>\n",
       "      <td>NaN</td>\n",
       "    </tr>\n",
       "    <tr>\n",
       "      <th>224647</th>\n",
       "      <td>53088000</td>\n",
       "      <td>NaN</td>\n",
       "      <td>NaN</td>\n",
       "      <td>NaN</td>\n",
       "      <td>Centro-Oeste</td>\n",
       "      <td>NaN</td>\n",
       "      <td>NaN</td>\n",
       "      <td>NaN</td>\n",
       "      <td>NaN</td>\n",
       "      <td>NaN</td>\n",
       "      <td>...</td>\n",
       "      <td>NaN</td>\n",
       "      <td>NaN</td>\n",
       "      <td>1</td>\n",
       "      <td>NaN</td>\n",
       "      <td>NaN</td>\n",
       "      <td>4</td>\n",
       "      <td>NaN</td>\n",
       "      <td>NaN</td>\n",
       "      <td>NaN</td>\n",
       "      <td>NaN</td>\n",
       "    </tr>\n",
       "    <tr>\n",
       "      <th>224648</th>\n",
       "      <td>53088034</td>\n",
       "      <td>NaN</td>\n",
       "      <td>NaN</td>\n",
       "      <td>NaN</td>\n",
       "      <td>Centro-Oeste</td>\n",
       "      <td>NaN</td>\n",
       "      <td>NaN</td>\n",
       "      <td>NaN</td>\n",
       "      <td>NaN</td>\n",
       "      <td>NaN</td>\n",
       "      <td>...</td>\n",
       "      <td>NaN</td>\n",
       "      <td>NaN</td>\n",
       "      <td>1</td>\n",
       "      <td>NaN</td>\n",
       "      <td>NaN</td>\n",
       "      <td>4</td>\n",
       "      <td>NaN</td>\n",
       "      <td>NaN</td>\n",
       "      <td>NaN</td>\n",
       "      <td>NaN</td>\n",
       "    </tr>\n",
       "  </tbody>\n",
       "</table>\n",
       "<p>224649 rows × 21 columns</p>\n",
       "</div>"
      ],
      "text/plain": [
       "       codigo_escola regiao_x  taxa_de_abandono  taxa_de_reprovacao  \\\n",
       "0           11024682    Norte              4.55                3.30   \n",
       "1           11024968    Norte              4.30                0.55   \n",
       "2           11025638    Norte              2.00                2.50   \n",
       "3           11037962    Norte              0.00               15.50   \n",
       "4           11038373    Norte              0.00               25.75   \n",
       "...              ...      ...               ...                 ...   \n",
       "224644      53085000      NaN               NaN                 NaN   \n",
       "224645      53087003      NaN               NaN                 NaN   \n",
       "224646      53087011      NaN               NaN                 NaN   \n",
       "224647      53088000      NaN               NaN                 NaN   \n",
       "224648      53088034      NaN               NaN                 NaN   \n",
       "\n",
       "            regiao_y  agua_filtrada  energia  saneamento_basico  \\\n",
       "0              Norte            1.0      1.0                0.0   \n",
       "1              Norte            1.0      1.0                0.0   \n",
       "2              Norte            1.0      1.0                0.0   \n",
       "3              Norte            1.0      0.0                0.0   \n",
       "4              Norte            1.0      1.0                0.0   \n",
       "...              ...            ...      ...                ...   \n",
       "224644  Centro-Oeste            1.0      1.0                1.0   \n",
       "224645  Centro-Oeste            NaN      NaN                NaN   \n",
       "224646  Centro-Oeste            NaN      NaN                NaN   \n",
       "224647  Centro-Oeste            NaN      NaN                NaN   \n",
       "224648  Centro-Oeste            NaN      NaN                NaN   \n",
       "\n",
       "        coleta_de_lixo  biblioteca_sala_leitura  ...  internet  computador  \\\n",
       "0                  1.0                      1.0  ...       1.0         1.0   \n",
       "1                  1.0                      1.0  ...       1.0         1.0   \n",
       "2                  1.0                      1.0  ...       1.0         1.0   \n",
       "3                  0.0                      0.0  ...       1.0         0.0   \n",
       "4                  0.0                      0.0  ...       1.0         0.0   \n",
       "...                ...                      ...  ...       ...         ...   \n",
       "224644             1.0                      1.0  ...       1.0         1.0   \n",
       "224645             NaN                      NaN  ...       NaN         NaN   \n",
       "224646             NaN                      NaN  ...       NaN         NaN   \n",
       "224647             NaN                      NaN  ...       NaN         NaN   \n",
       "224648             NaN                      NaN  ...       NaN         NaN   \n",
       "\n",
       "        tipo_localizacao  localizacao_diferenciada  laboratorio_ciencias  \\\n",
       "0                      1                       0.0                   0.0   \n",
       "1                      1                       0.0                   1.0   \n",
       "2                      1                       0.0                   1.0   \n",
       "3                      2                       2.0                   0.0   \n",
       "4                      2                       2.0                   0.0   \n",
       "...                  ...                       ...                   ...   \n",
       "224644                 1                       0.0                   1.0   \n",
       "224645                 1                       NaN                   NaN   \n",
       "224646                 1                       NaN                   NaN   \n",
       "224647                 1                       NaN                   NaN   \n",
       "224648                 1                       NaN                   NaN   \n",
       "\n",
       "        tipo_de_dependencia  laboratorio_informatica  educacao_especial  \\\n",
       "0                         2                      1.0                1.0   \n",
       "1                         2                      1.0                1.0   \n",
       "2                         2                      1.0                1.0   \n",
       "3                         2                      0.0                0.0   \n",
       "4                         2                      0.0                0.0   \n",
       "...                     ...                      ...                ...   \n",
       "224644                    4                      1.0                1.0   \n",
       "224645                    4                      NaN                NaN   \n",
       "224646                    4                      NaN                NaN   \n",
       "224647                    4                      NaN                NaN   \n",
       "224648                    4                      NaN                NaN   \n",
       "\n",
       "        alimentacao  nenhuma_acessibilidade  \n",
       "0               1.0                     0.0  \n",
       "1               1.0                     0.0  \n",
       "2               1.0                     0.0  \n",
       "3               1.0                     1.0  \n",
       "4               1.0                     1.0  \n",
       "...             ...                     ...  \n",
       "224644          0.0                     0.0  \n",
       "224645          NaN                     NaN  \n",
       "224646          NaN                     NaN  \n",
       "224647          NaN                     NaN  \n",
       "224648          NaN                     NaN  \n",
       "\n",
       "[224649 rows x 21 columns]"
      ]
     },
     "execution_count": 13,
     "metadata": {},
     "output_type": "execute_result"
    }
   ],
   "source": [
    "ed_brasileira_2022 = rend_escolas_2022_df.merge(ed_basica_2022_df, how='outer', on='codigo_escola')\n",
    "ed_brasileira_2022"
   ]
  },
  {
   "cell_type": "markdown",
   "metadata": {},
   "source": [
    "#### 2. Verificando a quantidade de dados nulos nas colunas. "
   ]
  },
  {
   "cell_type": "code",
   "execution_count": 14,
   "metadata": {},
   "outputs": [
    {
     "data": {
      "text/markdown": [
       "### A quantidade de dados nulos na coluna `regiao_x` é **203875**, representando **90.75** % do dataset."
      ],
      "text/plain": [
       "<IPython.core.display.Markdown object>"
      ]
     },
     "metadata": {},
     "output_type": "display_data"
    },
    {
     "data": {
      "text/markdown": [
       "### A quantidade de dados nulos na coluna `taxa_de_abandono` é **203875**, representando **90.75** % do dataset."
      ],
      "text/plain": [
       "<IPython.core.display.Markdown object>"
      ]
     },
     "metadata": {},
     "output_type": "display_data"
    },
    {
     "data": {
      "text/markdown": [
       "### A quantidade de dados nulos na coluna `taxa_de_reprovacao` é **203875**, representando **90.75** % do dataset."
      ],
      "text/plain": [
       "<IPython.core.display.Markdown object>"
      ]
     },
     "metadata": {},
     "output_type": "display_data"
    },
    {
     "data": {
      "text/markdown": [
       "### A quantidade de dados nulos na coluna `regiao_y` é **0**, representando **0.0** % do dataset."
      ],
      "text/plain": [
       "<IPython.core.display.Markdown object>"
      ]
     },
     "metadata": {},
     "output_type": "display_data"
    },
    {
     "data": {
      "text/markdown": [
       "### A quantidade de dados nulos na coluna `agua_filtrada` é **44576**, representando **19.84** % do dataset."
      ],
      "text/plain": [
       "<IPython.core.display.Markdown object>"
      ]
     },
     "metadata": {},
     "output_type": "display_data"
    },
    {
     "data": {
      "text/markdown": [
       "### A quantidade de dados nulos na coluna `energia` é **44576**, representando **19.84** % do dataset."
      ],
      "text/plain": [
       "<IPython.core.display.Markdown object>"
      ]
     },
     "metadata": {},
     "output_type": "display_data"
    },
    {
     "data": {
      "text/markdown": [
       "### A quantidade de dados nulos na coluna `saneamento_basico` é **44576**, representando **19.84** % do dataset."
      ],
      "text/plain": [
       "<IPython.core.display.Markdown object>"
      ]
     },
     "metadata": {},
     "output_type": "display_data"
    },
    {
     "data": {
      "text/markdown": [
       "### A quantidade de dados nulos na coluna `coleta_de_lixo` é **44576**, representando **19.84** % do dataset."
      ],
      "text/plain": [
       "<IPython.core.display.Markdown object>"
      ]
     },
     "metadata": {},
     "output_type": "display_data"
    },
    {
     "data": {
      "text/markdown": [
       "### A quantidade de dados nulos na coluna `internet` é **44576**, representando **19.84** % do dataset."
      ],
      "text/plain": [
       "<IPython.core.display.Markdown object>"
      ]
     },
     "metadata": {},
     "output_type": "display_data"
    },
    {
     "data": {
      "text/markdown": [
       "### A quantidade de dados nulos na coluna `alimentacao` é **44576**, representando **19.84** % do dataset."
      ],
      "text/plain": [
       "<IPython.core.display.Markdown object>"
      ]
     },
     "metadata": {},
     "output_type": "display_data"
    },
    {
     "data": {
      "text/markdown": [
       "### A quantidade de dados nulos na coluna `nenhuma_acessibilidade` é **44576**, representando **19.84** % do dataset."
      ],
      "text/plain": [
       "<IPython.core.display.Markdown object>"
      ]
     },
     "metadata": {},
     "output_type": "display_data"
    },
    {
     "data": {
      "text/markdown": [
       "### A quantidade de dados nulos na coluna `biblioteca_sala_leitura` é **44576**, representando **19.84** % do dataset."
      ],
      "text/plain": [
       "<IPython.core.display.Markdown object>"
      ]
     },
     "metadata": {},
     "output_type": "display_data"
    },
    {
     "data": {
      "text/markdown": [
       "### A quantidade de dados nulos na coluna `computador` é **44576**, representando **19.84** % do dataset."
      ],
      "text/plain": [
       "<IPython.core.display.Markdown object>"
      ]
     },
     "metadata": {},
     "output_type": "display_data"
    },
    {
     "data": {
      "text/markdown": [
       "### A quantidade de dados nulos na coluna `tratamento_de_lixo` é **44576**, representando **19.84** % do dataset."
      ],
      "text/plain": [
       "<IPython.core.display.Markdown object>"
      ]
     },
     "metadata": {},
     "output_type": "display_data"
    },
    {
     "data": {
      "text/markdown": [
       "### A quantidade de dados nulos na coluna `educacao_especial` é **46303**, representando **20.61** % do dataset."
      ],
      "text/plain": [
       "<IPython.core.display.Markdown object>"
      ]
     },
     "metadata": {},
     "output_type": "display_data"
    },
    {
     "data": {
      "text/markdown": [
       "### A quantidade de dados nulos na coluna `laboratorio_ciencias` é **44576**, representando **19.84** % do dataset."
      ],
      "text/plain": [
       "<IPython.core.display.Markdown object>"
      ]
     },
     "metadata": {},
     "output_type": "display_data"
    },
    {
     "data": {
      "text/markdown": [
       "### A quantidade de dados nulos na coluna `laboratorio_informatica` é **44576**, representando **19.84** % do dataset."
      ],
      "text/plain": [
       "<IPython.core.display.Markdown object>"
      ]
     },
     "metadata": {},
     "output_type": "display_data"
    },
    {
     "data": {
      "text/markdown": [
       "### A quantidade de dados nulos na coluna `tipo_de_dependencia` é **0**, representando **0.0** % do dataset."
      ],
      "text/plain": [
       "<IPython.core.display.Markdown object>"
      ]
     },
     "metadata": {},
     "output_type": "display_data"
    },
    {
     "data": {
      "text/markdown": [
       "### A quantidade de dados nulos na coluna `tipo_localizacao` é **0**, representando **0.0** % do dataset."
      ],
      "text/plain": [
       "<IPython.core.display.Markdown object>"
      ]
     },
     "metadata": {},
     "output_type": "display_data"
    },
    {
     "data": {
      "text/markdown": [
       "### A quantidade de dados nulos na coluna `localizacao_diferenciada` é **44576**, representando **19.84** % do dataset."
      ],
      "text/plain": [
       "<IPython.core.display.Markdown object>"
      ]
     },
     "metadata": {},
     "output_type": "display_data"
    }
   ],
   "source": [
    "def verificar_dados_nulos(*colunas):\n",
    "    for coluna in colunas:\n",
    "        efetuacao_dados_nulos = ed_brasileira_2022[coluna].isnull().sum()\n",
    "        nRows_ed_brasileira_2022 = ed_brasileira_2022.shape[0]\n",
    "        porcentagem = round(efetuacao_dados_nulos * 100 / nRows_ed_brasileira_2022, 2)\n",
    "        display(Markdown(f\"### A quantidade de dados nulos na coluna `{coluna}` é **{efetuacao_dados_nulos}**, representando **{porcentagem}** % do dataset.\"))\n",
    "    \n",
    "verificar_dados_nulos('regiao_x', 'taxa_de_abandono', 'taxa_de_reprovacao', 'regiao_y', 'agua_filtrada', 'energia', 'saneamento_basico', 'coleta_de_lixo', 'internet', 'alimentacao', 'nenhuma_acessibilidade', 'biblioteca_sala_leitura', 'computador', 'tratamento_de_lixo', 'educacao_especial', 'laboratorio_ciencias', 'laboratorio_informatica', 'tipo_de_dependencia', 'tipo_localizacao', 'localizacao_diferenciada')"
   ]
  },
  {
   "cell_type": "markdown",
   "metadata": {},
   "source": [
    "#### 3. Como há grandes quantidades de dados nulos por causa de escolas que não estão em ambos datasets, há a deleção das linhas dessas escolas."
   ]
  },
  {
   "cell_type": "code",
   "execution_count": 15,
   "metadata": {},
   "outputs": [
    {
     "data": {
      "text/html": [
       "<div>\n",
       "<style scoped>\n",
       "    .dataframe tbody tr th:only-of-type {\n",
       "        vertical-align: middle;\n",
       "    }\n",
       "\n",
       "    .dataframe tbody tr th {\n",
       "        vertical-align: top;\n",
       "    }\n",
       "\n",
       "    .dataframe thead th {\n",
       "        text-align: right;\n",
       "    }\n",
       "</style>\n",
       "<table border=\"1\" class=\"dataframe\">\n",
       "  <thead>\n",
       "    <tr style=\"text-align: right;\">\n",
       "      <th></th>\n",
       "      <th>codigo_escola</th>\n",
       "      <th>regiao_x</th>\n",
       "      <th>taxa_de_abandono</th>\n",
       "      <th>taxa_de_reprovacao</th>\n",
       "      <th>regiao_y</th>\n",
       "      <th>agua_filtrada</th>\n",
       "      <th>energia</th>\n",
       "      <th>saneamento_basico</th>\n",
       "      <th>coleta_de_lixo</th>\n",
       "      <th>biblioteca_sala_leitura</th>\n",
       "      <th>...</th>\n",
       "      <th>internet</th>\n",
       "      <th>computador</th>\n",
       "      <th>tipo_localizacao</th>\n",
       "      <th>localizacao_diferenciada</th>\n",
       "      <th>laboratorio_ciencias</th>\n",
       "      <th>tipo_de_dependencia</th>\n",
       "      <th>laboratorio_informatica</th>\n",
       "      <th>educacao_especial</th>\n",
       "      <th>alimentacao</th>\n",
       "      <th>nenhuma_acessibilidade</th>\n",
       "    </tr>\n",
       "  </thead>\n",
       "  <tbody>\n",
       "    <tr>\n",
       "      <th>0</th>\n",
       "      <td>11024682</td>\n",
       "      <td>Norte</td>\n",
       "      <td>4.55</td>\n",
       "      <td>3.30</td>\n",
       "      <td>Norte</td>\n",
       "      <td>1.0</td>\n",
       "      <td>1.0</td>\n",
       "      <td>0.0</td>\n",
       "      <td>1.0</td>\n",
       "      <td>1.0</td>\n",
       "      <td>...</td>\n",
       "      <td>1.0</td>\n",
       "      <td>1.0</td>\n",
       "      <td>1</td>\n",
       "      <td>0.0</td>\n",
       "      <td>0.0</td>\n",
       "      <td>2</td>\n",
       "      <td>1.0</td>\n",
       "      <td>1.0</td>\n",
       "      <td>1.0</td>\n",
       "      <td>0.0</td>\n",
       "    </tr>\n",
       "    <tr>\n",
       "      <th>1</th>\n",
       "      <td>11024968</td>\n",
       "      <td>Norte</td>\n",
       "      <td>4.30</td>\n",
       "      <td>0.55</td>\n",
       "      <td>Norte</td>\n",
       "      <td>1.0</td>\n",
       "      <td>1.0</td>\n",
       "      <td>0.0</td>\n",
       "      <td>1.0</td>\n",
       "      <td>1.0</td>\n",
       "      <td>...</td>\n",
       "      <td>1.0</td>\n",
       "      <td>1.0</td>\n",
       "      <td>1</td>\n",
       "      <td>0.0</td>\n",
       "      <td>1.0</td>\n",
       "      <td>2</td>\n",
       "      <td>1.0</td>\n",
       "      <td>1.0</td>\n",
       "      <td>1.0</td>\n",
       "      <td>0.0</td>\n",
       "    </tr>\n",
       "    <tr>\n",
       "      <th>2</th>\n",
       "      <td>11025638</td>\n",
       "      <td>Norte</td>\n",
       "      <td>2.00</td>\n",
       "      <td>2.50</td>\n",
       "      <td>Norte</td>\n",
       "      <td>1.0</td>\n",
       "      <td>1.0</td>\n",
       "      <td>0.0</td>\n",
       "      <td>1.0</td>\n",
       "      <td>1.0</td>\n",
       "      <td>...</td>\n",
       "      <td>1.0</td>\n",
       "      <td>1.0</td>\n",
       "      <td>1</td>\n",
       "      <td>0.0</td>\n",
       "      <td>1.0</td>\n",
       "      <td>2</td>\n",
       "      <td>1.0</td>\n",
       "      <td>1.0</td>\n",
       "      <td>1.0</td>\n",
       "      <td>0.0</td>\n",
       "    </tr>\n",
       "    <tr>\n",
       "      <th>3</th>\n",
       "      <td>11037962</td>\n",
       "      <td>Norte</td>\n",
       "      <td>0.00</td>\n",
       "      <td>15.50</td>\n",
       "      <td>Norte</td>\n",
       "      <td>1.0</td>\n",
       "      <td>0.0</td>\n",
       "      <td>0.0</td>\n",
       "      <td>0.0</td>\n",
       "      <td>0.0</td>\n",
       "      <td>...</td>\n",
       "      <td>1.0</td>\n",
       "      <td>0.0</td>\n",
       "      <td>2</td>\n",
       "      <td>2.0</td>\n",
       "      <td>0.0</td>\n",
       "      <td>2</td>\n",
       "      <td>0.0</td>\n",
       "      <td>0.0</td>\n",
       "      <td>1.0</td>\n",
       "      <td>1.0</td>\n",
       "    </tr>\n",
       "    <tr>\n",
       "      <th>4</th>\n",
       "      <td>11038373</td>\n",
       "      <td>Norte</td>\n",
       "      <td>0.00</td>\n",
       "      <td>25.75</td>\n",
       "      <td>Norte</td>\n",
       "      <td>1.0</td>\n",
       "      <td>1.0</td>\n",
       "      <td>0.0</td>\n",
       "      <td>0.0</td>\n",
       "      <td>0.0</td>\n",
       "      <td>...</td>\n",
       "      <td>1.0</td>\n",
       "      <td>0.0</td>\n",
       "      <td>2</td>\n",
       "      <td>2.0</td>\n",
       "      <td>0.0</td>\n",
       "      <td>2</td>\n",
       "      <td>0.0</td>\n",
       "      <td>0.0</td>\n",
       "      <td>1.0</td>\n",
       "      <td>1.0</td>\n",
       "    </tr>\n",
       "    <tr>\n",
       "      <th>...</th>\n",
       "      <td>...</td>\n",
       "      <td>...</td>\n",
       "      <td>...</td>\n",
       "      <td>...</td>\n",
       "      <td>...</td>\n",
       "      <td>...</td>\n",
       "      <td>...</td>\n",
       "      <td>...</td>\n",
       "      <td>...</td>\n",
       "      <td>...</td>\n",
       "      <td>...</td>\n",
       "      <td>...</td>\n",
       "      <td>...</td>\n",
       "      <td>...</td>\n",
       "      <td>...</td>\n",
       "      <td>...</td>\n",
       "      <td>...</td>\n",
       "      <td>...</td>\n",
       "      <td>...</td>\n",
       "      <td>...</td>\n",
       "      <td>...</td>\n",
       "    </tr>\n",
       "    <tr>\n",
       "      <th>20769</th>\n",
       "      <td>53068068</td>\n",
       "      <td>Centro-Oeste</td>\n",
       "      <td>5.00</td>\n",
       "      <td>5.70</td>\n",
       "      <td>Centro-Oeste</td>\n",
       "      <td>1.0</td>\n",
       "      <td>1.0</td>\n",
       "      <td>0.0</td>\n",
       "      <td>1.0</td>\n",
       "      <td>1.0</td>\n",
       "      <td>...</td>\n",
       "      <td>1.0</td>\n",
       "      <td>1.0</td>\n",
       "      <td>1</td>\n",
       "      <td>0.0</td>\n",
       "      <td>0.0</td>\n",
       "      <td>2</td>\n",
       "      <td>1.0</td>\n",
       "      <td>1.0</td>\n",
       "      <td>1.0</td>\n",
       "      <td>1.0</td>\n",
       "    </tr>\n",
       "    <tr>\n",
       "      <th>20770</th>\n",
       "      <td>53068181</td>\n",
       "      <td>Centro-Oeste</td>\n",
       "      <td>0.00</td>\n",
       "      <td>12.85</td>\n",
       "      <td>Centro-Oeste</td>\n",
       "      <td>1.0</td>\n",
       "      <td>1.0</td>\n",
       "      <td>1.0</td>\n",
       "      <td>1.0</td>\n",
       "      <td>1.0</td>\n",
       "      <td>...</td>\n",
       "      <td>1.0</td>\n",
       "      <td>1.0</td>\n",
       "      <td>1</td>\n",
       "      <td>0.0</td>\n",
       "      <td>0.0</td>\n",
       "      <td>2</td>\n",
       "      <td>1.0</td>\n",
       "      <td>1.0</td>\n",
       "      <td>1.0</td>\n",
       "      <td>0.0</td>\n",
       "    </tr>\n",
       "    <tr>\n",
       "      <th>20771</th>\n",
       "      <td>53082001</td>\n",
       "      <td>Centro-Oeste</td>\n",
       "      <td>0.00</td>\n",
       "      <td>1.35</td>\n",
       "      <td>Centro-Oeste</td>\n",
       "      <td>1.0</td>\n",
       "      <td>1.0</td>\n",
       "      <td>1.0</td>\n",
       "      <td>1.0</td>\n",
       "      <td>1.0</td>\n",
       "      <td>...</td>\n",
       "      <td>1.0</td>\n",
       "      <td>1.0</td>\n",
       "      <td>1</td>\n",
       "      <td>0.0</td>\n",
       "      <td>1.0</td>\n",
       "      <td>4</td>\n",
       "      <td>1.0</td>\n",
       "      <td>1.0</td>\n",
       "      <td>0.0</td>\n",
       "      <td>0.0</td>\n",
       "    </tr>\n",
       "    <tr>\n",
       "      <th>20772</th>\n",
       "      <td>53084055</td>\n",
       "      <td>Centro-Oeste</td>\n",
       "      <td>0.00</td>\n",
       "      <td>0.20</td>\n",
       "      <td>Centro-Oeste</td>\n",
       "      <td>1.0</td>\n",
       "      <td>1.0</td>\n",
       "      <td>1.0</td>\n",
       "      <td>1.0</td>\n",
       "      <td>1.0</td>\n",
       "      <td>...</td>\n",
       "      <td>1.0</td>\n",
       "      <td>1.0</td>\n",
       "      <td>1</td>\n",
       "      <td>0.0</td>\n",
       "      <td>1.0</td>\n",
       "      <td>4</td>\n",
       "      <td>1.0</td>\n",
       "      <td>1.0</td>\n",
       "      <td>0.0</td>\n",
       "      <td>0.0</td>\n",
       "    </tr>\n",
       "    <tr>\n",
       "      <th>20773</th>\n",
       "      <td>53086007</td>\n",
       "      <td>Centro-Oeste</td>\n",
       "      <td>0.30</td>\n",
       "      <td>10.05</td>\n",
       "      <td>Centro-Oeste</td>\n",
       "      <td>1.0</td>\n",
       "      <td>1.0</td>\n",
       "      <td>0.0</td>\n",
       "      <td>1.0</td>\n",
       "      <td>0.0</td>\n",
       "      <td>...</td>\n",
       "      <td>1.0</td>\n",
       "      <td>1.0</td>\n",
       "      <td>1</td>\n",
       "      <td>0.0</td>\n",
       "      <td>0.0</td>\n",
       "      <td>4</td>\n",
       "      <td>0.0</td>\n",
       "      <td>1.0</td>\n",
       "      <td>0.0</td>\n",
       "      <td>0.0</td>\n",
       "    </tr>\n",
       "  </tbody>\n",
       "</table>\n",
       "<p>20774 rows × 21 columns</p>\n",
       "</div>"
      ],
      "text/plain": [
       "      codigo_escola      regiao_x  taxa_de_abandono  taxa_de_reprovacao  \\\n",
       "0          11024682         Norte              4.55                3.30   \n",
       "1          11024968         Norte              4.30                0.55   \n",
       "2          11025638         Norte              2.00                2.50   \n",
       "3          11037962         Norte              0.00               15.50   \n",
       "4          11038373         Norte              0.00               25.75   \n",
       "...             ...           ...               ...                 ...   \n",
       "20769      53068068  Centro-Oeste              5.00                5.70   \n",
       "20770      53068181  Centro-Oeste              0.00               12.85   \n",
       "20771      53082001  Centro-Oeste              0.00                1.35   \n",
       "20772      53084055  Centro-Oeste              0.00                0.20   \n",
       "20773      53086007  Centro-Oeste              0.30               10.05   \n",
       "\n",
       "           regiao_y  agua_filtrada  energia  saneamento_basico  \\\n",
       "0             Norte            1.0      1.0                0.0   \n",
       "1             Norte            1.0      1.0                0.0   \n",
       "2             Norte            1.0      1.0                0.0   \n",
       "3             Norte            1.0      0.0                0.0   \n",
       "4             Norte            1.0      1.0                0.0   \n",
       "...             ...            ...      ...                ...   \n",
       "20769  Centro-Oeste            1.0      1.0                0.0   \n",
       "20770  Centro-Oeste            1.0      1.0                1.0   \n",
       "20771  Centro-Oeste            1.0      1.0                1.0   \n",
       "20772  Centro-Oeste            1.0      1.0                1.0   \n",
       "20773  Centro-Oeste            1.0      1.0                0.0   \n",
       "\n",
       "       coleta_de_lixo  biblioteca_sala_leitura  ...  internet  computador  \\\n",
       "0                 1.0                      1.0  ...       1.0         1.0   \n",
       "1                 1.0                      1.0  ...       1.0         1.0   \n",
       "2                 1.0                      1.0  ...       1.0         1.0   \n",
       "3                 0.0                      0.0  ...       1.0         0.0   \n",
       "4                 0.0                      0.0  ...       1.0         0.0   \n",
       "...               ...                      ...  ...       ...         ...   \n",
       "20769             1.0                      1.0  ...       1.0         1.0   \n",
       "20770             1.0                      1.0  ...       1.0         1.0   \n",
       "20771             1.0                      1.0  ...       1.0         1.0   \n",
       "20772             1.0                      1.0  ...       1.0         1.0   \n",
       "20773             1.0                      0.0  ...       1.0         1.0   \n",
       "\n",
       "       tipo_localizacao  localizacao_diferenciada  laboratorio_ciencias  \\\n",
       "0                     1                       0.0                   0.0   \n",
       "1                     1                       0.0                   1.0   \n",
       "2                     1                       0.0                   1.0   \n",
       "3                     2                       2.0                   0.0   \n",
       "4                     2                       2.0                   0.0   \n",
       "...                 ...                       ...                   ...   \n",
       "20769                 1                       0.0                   0.0   \n",
       "20770                 1                       0.0                   0.0   \n",
       "20771                 1                       0.0                   1.0   \n",
       "20772                 1                       0.0                   1.0   \n",
       "20773                 1                       0.0                   0.0   \n",
       "\n",
       "       tipo_de_dependencia  laboratorio_informatica  educacao_especial  \\\n",
       "0                        2                      1.0                1.0   \n",
       "1                        2                      1.0                1.0   \n",
       "2                        2                      1.0                1.0   \n",
       "3                        2                      0.0                0.0   \n",
       "4                        2                      0.0                0.0   \n",
       "...                    ...                      ...                ...   \n",
       "20769                    2                      1.0                1.0   \n",
       "20770                    2                      1.0                1.0   \n",
       "20771                    4                      1.0                1.0   \n",
       "20772                    4                      1.0                1.0   \n",
       "20773                    4                      0.0                1.0   \n",
       "\n",
       "       alimentacao  nenhuma_acessibilidade  \n",
       "0              1.0                     0.0  \n",
       "1              1.0                     0.0  \n",
       "2              1.0                     0.0  \n",
       "3              1.0                     1.0  \n",
       "4              1.0                     1.0  \n",
       "...            ...                     ...  \n",
       "20769          1.0                     1.0  \n",
       "20770          1.0                     0.0  \n",
       "20771          0.0                     0.0  \n",
       "20772          0.0                     0.0  \n",
       "20773          0.0                     0.0  \n",
       "\n",
       "[20774 rows x 21 columns]"
      ]
     },
     "execution_count": 15,
     "metadata": {},
     "output_type": "execute_result"
    }
   ],
   "source": [
    "ed_brasileira_2022 = ed_brasileira_2022.dropna(subset=['taxa_de_abandono'])\n",
    "\n",
    "ed_brasileira_2022"
   ]
  },
  {
   "cell_type": "markdown",
   "metadata": {},
   "source": [
    "#### 4. Verificando se as regiões são as mesmas de um dataframe e outro."
   ]
  },
  {
   "cell_type": "code",
   "execution_count": 16,
   "metadata": {},
   "outputs": [
    {
     "data": {
      "text/markdown": [
       "#### Todos os valores de `regiao_x` e `regiao_y` são os mesmos em ambos os datasets? True"
      ],
      "text/plain": [
       "<IPython.core.display.Markdown object>"
      ]
     },
     "metadata": {},
     "output_type": "display_data"
    }
   ],
   "source": [
    "mesma_regiao = ed_brasileira_2022['regiao_x'] == ed_brasileira_2022['regiao_y']\n",
    "todas_escolas_datasets_mesma_regiao = mesma_regiao.all()\n",
    "display(Markdown(f\"#### Todos os valores de `regiao_x` e `regiao_y` são os mesmos em ambos os datasets? {todas_escolas_datasets_mesma_regiao}\"))"
   ]
  },
  {
   "cell_type": "markdown",
   "metadata": {},
   "source": [
    "#### 5. Se todas as regiões forem as mesmas de um dataframe e outro, é deletado a `regiao_y` e a coluna `regiao_x` é renomeado para `regiao`.\n",
    "#### 6. Verificação dos dados únicos de regiões. \n",
    "#### 7. Uso da função `pd.factorize()` que identifica valores distintos na coluna e atribui um valor numérico para cada um.\n",
    "- Reatribuindo a coluna `regiao` com os valores numéricos codificados pela função.\n",
    "- Visualização do mapeamento usando `zip()` para combinar os valores originais e os valores numéricos em pares e logo depois transformando em `list()` para facilitar na visualização. \n",
    "#### 8. Caso as regiões não sejam as mesmas, apresentação de uma mensagem notificando isso."
   ]
  },
  {
   "cell_type": "code",
   "execution_count": 17,
   "metadata": {},
   "outputs": [
    {
     "name": "stderr",
     "output_type": "stream",
     "text": [
      "C:\\Users\\gabri\\AppData\\Local\\Temp\\ipykernel_35756\\1442270564.py:2: SettingWithCopyWarning: \n",
      "A value is trying to be set on a copy of a slice from a DataFrame\n",
      "\n",
      "See the caveats in the documentation: https://pandas.pydata.org/pandas-docs/stable/user_guide/indexing.html#returning-a-view-versus-a-copy\n",
      "  ed_brasileira_2022.drop('regiao_y', axis=1, inplace=True)\n",
      "C:\\Users\\gabri\\AppData\\Local\\Temp\\ipykernel_35756\\1442270564.py:3: SettingWithCopyWarning: \n",
      "A value is trying to be set on a copy of a slice from a DataFrame\n",
      "\n",
      "See the caveats in the documentation: https://pandas.pydata.org/pandas-docs/stable/user_guide/indexing.html#returning-a-view-versus-a-copy\n",
      "  ed_brasileira_2022.rename(columns={'regiao_x': 'regiao'}, inplace=True)\n"
     ]
    },
    {
     "data": {
      "text/markdown": [
       "#### Regiões únicas: **['Norte' 'Nordeste' 'Sudeste' 'Sul' 'Centro-Oeste']**"
      ],
      "text/plain": [
       "<IPython.core.display.Markdown object>"
      ]
     },
     "metadata": {},
     "output_type": "display_data"
    },
    {
     "name": "stderr",
     "output_type": "stream",
     "text": [
      "C:\\Users\\gabri\\AppData\\Local\\Temp\\ipykernel_35756\\1442270564.py:8: SettingWithCopyWarning: \n",
      "A value is trying to be set on a copy of a slice from a DataFrame.\n",
      "Try using .loc[row_indexer,col_indexer] = value instead\n",
      "\n",
      "See the caveats in the documentation: https://pandas.pydata.org/pandas-docs/stable/user_guide/indexing.html#returning-a-view-versus-a-copy\n",
      "  ed_brasileira_2022['regiao'], unique = pd.factorize(ed_brasileira_2022['regiao'])\n"
     ]
    },
    {
     "data": {
      "text/markdown": [
       "#### Mapeamento de código por região: **[('Norte', 0), ('Nordeste', 1), ('Sudeste', 2), ('Sul', 3), ('Centro-Oeste', 4)]**"
      ],
      "text/plain": [
       "<IPython.core.display.Markdown object>"
      ]
     },
     "metadata": {},
     "output_type": "display_data"
    }
   ],
   "source": [
    "if todas_escolas_datasets_mesma_regiao:\n",
    "    ed_brasileira_2022.drop('regiao_y', axis=1, inplace=True)\n",
    "    ed_brasileira_2022.rename(columns={'regiao_x': 'regiao'}, inplace=True)\n",
    "    \n",
    "    unique_regions = ed_brasileira_2022['regiao'].unique()\n",
    "    display(Markdown(f\"#### Regiões únicas: **{unique_regions}**\"))\n",
    "    \n",
    "    ed_brasileira_2022['regiao'], unique = pd.factorize(ed_brasileira_2022['regiao'])\n",
    "    display(Markdown(f\"#### Mapeamento de código por região: **{list(zip(unique, ed_brasileira_2022['regiao'].unique()))}**\"))\n",
    "    \n",
    "else:\n",
    "    display(Markdown(f\"#### As regiões em 'regiao_x' e 'regiao_y' não são as mesmas em todas as linhas.\"))"
   ]
  },
  {
   "cell_type": "markdown",
   "metadata": {},
   "source": [
    "#### 9. Cálculo do IQR para análise da presença de outliers. \n",
    "- Dividindo os dados da coluna `taxa_de_abandono` em primeiro (25%) e terceiro quartil (75%). \n",
    "- Cálculo do Intervalo Interquartílico (IQR) para medir a dispersão estatística dos dados.\n",
    "- Definindo o limite inferior e superior. "
   ]
  },
  {
   "cell_type": "code",
   "execution_count": 18,
   "metadata": {},
   "outputs": [],
   "source": [
    "Q1 = ed_brasileira_2022['taxa_de_abandono'].quantile(0.25)\n",
    "Q3 = ed_brasileira_2022['taxa_de_abandono'].quantile(0.75)\n",
    "\n",
    "IQR = Q3 - Q1\n",
    "\n",
    "limite_inferior = Q1 - 1.5 * IQR\n",
    "limite_superior = Q3 + 1.5 * IQR"
   ]
  },
  {
   "cell_type": "markdown",
   "metadata": {},
   "source": [
    "#### 10. Plotagem dos gráficos para análise do dataframe com outliers e sem.\n",
    "#### 11. Filtração de dados da coluna `taxa_de_abandono` para manter apenas os dados dentro dos limites definidos, removendo assim os outliers. "
   ]
  },
  {
   "cell_type": "code",
   "execution_count": 19,
   "metadata": {},
   "outputs": [
    {
     "data": {
      "image/png": "[encoded data removed]",
      "text/plain": [
       "<Figure size 1000x600 with 2 Axes>"
      ]
     },
     "metadata": {},
     "output_type": "display_data"
    }
   ],
   "source": [
    "plt.figure(figsize=(10, 6))\n",
    "plt.subplot(1, 2, 1)\n",
    "ed_brasileira_2022['taxa_de_abandono'].plot(kind='box')\n",
    "plt.title('Antes de remover Outliers')\n",
    "\n",
    "ed_brasileira_2022 = ed_brasileira_2022[(ed_brasileira_2022['taxa_de_abandono'] >= limite_inferior) & (ed_brasileira_2022['taxa_de_abandono'] <= limite_superior)]\n",
    "\n",
    "plt.subplot(1, 2, 2)\n",
    "ed_brasileira_2022['taxa_de_abandono'].plot(kind='box')\n",
    "plt.title('Depois de remover Outliers')\n",
    "\n",
    "plt.show()"
   ]
  },
  {
   "cell_type": "markdown",
   "metadata": {},
   "source": [
    "#### 12. Apresentação da quantidade de linhas sem outliers. "
   ]
  },
  {
   "cell_type": "code",
   "execution_count": 20,
   "metadata": {},
   "outputs": [
    {
     "data": {
      "text/markdown": [
       "#### Quantidade de linhas sem a presença de outliers: **19196**"
      ],
      "text/plain": [
       "<IPython.core.display.Markdown object>"
      ]
     },
     "metadata": {},
     "output_type": "display_data"
    }
   ],
   "source": [
    "display(Markdown(f\"#### Quantidade de linhas sem a presença de outliers: **{ed_brasileira_2022.shape[0]}**\"))"
   ]
  },
  {
   "cell_type": "markdown",
   "metadata": {},
   "source": [
    "#### 13. Plotagem do gráfico com a distribuição "
   ]
  },
  {
   "cell_type": "code",
   "execution_count": 21,
   "metadata": {},
   "outputs": [],
   "source": [
    "def plotar_distribuicao_de_coluna_continua(df, coluna_label, titulo, x_label):\n",
    "    plt.hist(df[coluna_label], bins=30, alpha=0.75)\n",
    "    plt.title(titulo)\n",
    "    plt.xlabel(x_label)\n",
    "    plt.ylabel('Frequência')\n",
    "    plt.grid(True)\n",
    "    plt.show()"
   ]
  },
  {
   "cell_type": "code",
   "execution_count": 22,
   "metadata": {},
   "outputs": [
    {
     "data": {
      "image/png": "[encoded data removed]",
      "text/plain": [
       "<Figure size 640x480 with 1 Axes>"
      ]
     },
     "metadata": {},
     "output_type": "display_data"
    }
   ],
   "source": [
    "plotar_distribuicao_de_coluna_continua(ed_brasileira_2022, 'taxa_de_abandono', 'Distribuição da Taxa de Abandono', 'Taxa de Abandono')"
   ]
  },
  {
   "cell_type": "markdown",
   "metadata": {},
   "source": [
    "#### 14. Criação de um dataframe com escolas com taxa == 0 \n",
    "#### 15. Contagem de escolas com taxa == 0 "
   ]
  },
  {
   "cell_type": "code",
   "execution_count": 23,
   "metadata": {},
   "outputs": [],
   "source": [
    "def apresentar_quantidade_de_zeros_na_coluna(df, coluna_label, metrica):\n",
    "    zero_abandono_df = df[df['taxa_de_abandono'] == 0.0]\n",
    "\n",
    "    quantidade_zero = zero_abandono_df.shape[0]\n",
    "    porcentagem_quantidade_zero = round(quantidade_zero * 100 / df.shape[0], 2)\n",
    "    display(Markdown(f\"#### Quantidade de escolas com taxa de {metrica} 0.0: **{quantidade_zero}**, com a porcentagem de **{porcentagem_quantidade_zero}**\"))"
   ]
  },
  {
   "cell_type": "code",
   "execution_count": 24,
   "metadata": {},
   "outputs": [
    {
     "data": {
      "text/markdown": [
       "#### Quantidade de escolas com taxa de abandono 0.0: **8919**, com a porcentagem de **46.46**"
      ],
      "text/plain": [
       "<IPython.core.display.Markdown object>"
      ]
     },
     "metadata": {},
     "output_type": "display_data"
    }
   ],
   "source": [
    "apresentar_quantidade_de_zeros_na_coluna(ed_brasileira_2022, 'taxa_de_abandono', 'abandono')"
   ]
  },
  {
   "cell_type": "markdown",
   "metadata": {},
   "source": [
    "#### 16. Criando um subconjunto em que a taxa seja supeior a 0.\n",
    "#### 17. Definindo limiares para categorizar as taxas.\n",
    "- Dividindo entre limiar baixo (33%) e limiar alto (67%)"
   ]
  },
  {
   "cell_type": "code",
   "execution_count": 25,
   "metadata": {},
   "outputs": [],
   "source": [
    "def definir_limiares_para_categorizar_coluna(df, coluna_label):\n",
    "    dados_maiores_que_zero = df[df[coluna_label] > 0.000]\n",
    "\n",
    "    limiar_baixo = dados_maiores_que_zero[coluna_label].quantile(0.33)  # 33% dos dados acima de zero\n",
    "    limiar_alto = dados_maiores_que_zero[coluna_label].quantile(0.67)  # 67% dos dados totais\n",
    "\n",
    "    display(Markdown(f\"#### Limiar baixo: **{limiar_baixo}**, Limiar alto: **{limiar_alto}**\"))\n",
    "    \n",
    "    return limiar_baixo, limiar_alto"
   ]
  },
  {
   "cell_type": "code",
   "execution_count": 26,
   "metadata": {},
   "outputs": [
    {
     "data": {
      "text/markdown": [
       "#### Limiar baixo: **1.25**, Limiar alto: **3.8**"
      ],
      "text/plain": [
       "<IPython.core.display.Markdown object>"
      ]
     },
     "metadata": {},
     "output_type": "display_data"
    }
   ],
   "source": [
    "limiar_baixo, limiar_alto = definir_limiares_para_categorizar_coluna(ed_brasileira_2022, 'taxa_de_abandono')"
   ]
  },
  {
   "cell_type": "markdown",
   "metadata": {},
   "source": [
    "#### 18. Função que categoriza os valores das taxas para:\n",
    "- Sem Evasão: Quando a taxa é zero.\n",
    "- Evasão Baixa: Quando a taxa é positiva mas não excede o limiar_baixo.\n",
    "- Evasão Média: Quando a taxa está entre o limiar_baixo e o limiar_alto.\n",
    "- Evasão Alta: Quando a taxa excede o limiar_alto.\n",
    "#### 19. Aplicação das categorizações na coluna, substituindo os dados pelas categorias correspondentes. \n",
    "#### 20. Visualização das categorias na coluna."
   ]
  },
  {
   "cell_type": "code",
   "execution_count": 27,
   "metadata": {},
   "outputs": [],
   "source": [
    "def categorizar_coluna(df, coluna_label, mapeamento, limiar_baixo, limiar_alto):\n",
    "    def categorizar_valor(valor):\n",
    "        if valor == 0.0:\n",
    "            return mapeamento['ZERO']\n",
    "        elif valor <= limiar_baixo:\n",
    "            return mapeamento['BAIXO']\n",
    "        elif valor <= limiar_alto:\n",
    "            return mapeamento['MEDIO']\n",
    "        else:\n",
    "            return mapeamento['ALTO']\n",
    "\n",
    "    df[coluna_label] = df[coluna_label].apply(categorizar_valor)\n",
    "    display(Markdown(f'#### {df[coluna_label].unique()}'))"
   ]
  },
  {
   "cell_type": "code",
   "execution_count": 28,
   "metadata": {},
   "outputs": [
    {
     "name": "stderr",
     "output_type": "stream",
     "text": [
      "C:\\Users\\gabri\\AppData\\Local\\Temp\\ipykernel_35756\\1334800882.py:12: SettingWithCopyWarning: \n",
      "A value is trying to be set on a copy of a slice from a DataFrame.\n",
      "Try using .loc[row_indexer,col_indexer] = value instead\n",
      "\n",
      "See the caveats in the documentation: https://pandas.pydata.org/pandas-docs/stable/user_guide/indexing.html#returning-a-view-versus-a-copy\n",
      "  df[coluna_label] = df[coluna_label].apply(categorizar_valor)\n"
     ]
    },
    {
     "data": {
      "text/markdown": [
       "#### ['Evasão Alta' 'Evasão Média' 'Sem Evasão' 'Evasão Baixa']"
      ],
      "text/plain": [
       "<IPython.core.display.Markdown object>"
      ]
     },
     "metadata": {},
     "output_type": "display_data"
    }
   ],
   "source": [
    "categorizar_coluna(ed_brasileira_2022, 'taxa_de_abandono', { 'ZERO': 'Sem Evasão', 'BAIXO': 'Evasão Baixa', 'MEDIO': 'Evasão Média', 'ALTO': 'Evasão Alta'}, limiar_baixo, limiar_alto)"
   ]
  },
  {
   "cell_type": "markdown",
   "metadata": {},
   "source": [
    "#### 21. Contagem de categorias presentes na coluna e a plotagem de um gráfico de pizza para melhor visualização."
   ]
  },
  {
   "cell_type": "code",
   "execution_count": 29,
   "metadata": {},
   "outputs": [],
   "source": [
    "def plotar_grafico_de_piza_com_categorias(df, coluna_label, titulo):\n",
    "    categoria_counts = df[coluna_label].value_counts()\n",
    "\n",
    "    plt.figure(figsize=(8, 8))\n",
    "    plt.pie(categoria_counts, labels=categoria_counts.index, autopct='%1.1f%%', startangle=140)\n",
    "    plt.title(titulo)\n",
    "    plt.axis('equal')  \n",
    "    plt.show()"
   ]
  },
  {
   "cell_type": "code",
   "execution_count": 30,
   "metadata": {},
   "outputs": [
    {
     "data": {
      "image/png": "[encoded data removed]",
      "text/plain": [
       "<Figure size 800x800 with 1 Axes>"
      ]
     },
     "metadata": {},
     "output_type": "display_data"
    }
   ],
   "source": [
    "plotar_grafico_de_piza_com_categorias(ed_brasileira_2022, 'taxa_de_abandono', 'Proporção das Categorias de Evasão')"
   ]
  },
  {
   "cell_type": "markdown",
   "metadata": {},
   "source": [
    "#### 22. Uso da função `pd.factorize()` que identifica valores distintos na coluna e atribui um valor numérico para cada um.\n",
    "- Reatribuindo a coluna com os valores numéricos codificados pela função.\n",
    "- Visualização do mapeamento usando `zip()` para combinar os valores originais e os valores numéricos em pares e logo depois transformando em `list()` para facilitar na visualização. "
   ]
  },
  {
   "cell_type": "code",
   "execution_count": 31,
   "metadata": {},
   "outputs": [],
   "source": [
    "def codificar_categorias(df, coluna_label, texto_coluna):\n",
    "    df[coluna_label], unique = pd.factorize(df[coluna_label])\n",
    "    display(Markdown(f\"#### Mapeamento de {texto_coluna}: **{list(zip(unique, ed_brasileira_2022[coluna_label].unique()))}**\"))"
   ]
  },
  {
   "cell_type": "code",
   "execution_count": 32,
   "metadata": {},
   "outputs": [
    {
     "name": "stderr",
     "output_type": "stream",
     "text": [
      "C:\\Users\\gabri\\AppData\\Local\\Temp\\ipykernel_35756\\2055680165.py:2: SettingWithCopyWarning: \n",
      "A value is trying to be set on a copy of a slice from a DataFrame.\n",
      "Try using .loc[row_indexer,col_indexer] = value instead\n",
      "\n",
      "See the caveats in the documentation: https://pandas.pydata.org/pandas-docs/stable/user_guide/indexing.html#returning-a-view-versus-a-copy\n",
      "  df[coluna_label], unique = pd.factorize(df[coluna_label])\n"
     ]
    },
    {
     "data": {
      "text/markdown": [
       "#### Mapeamento de taxa de abandono: **[('Evasão Alta', 0), ('Evasão Média', 1), ('Sem Evasão', 2), ('Evasão Baixa', 3)]**"
      ],
      "text/plain": [
       "<IPython.core.display.Markdown object>"
      ]
     },
     "metadata": {},
     "output_type": "display_data"
    }
   ],
   "source": [
    "codificar_categorias(ed_brasileira_2022, 'taxa_de_abandono', 'taxa de abandono')"
   ]
  },
  {
   "cell_type": "markdown",
   "metadata": {},
   "source": [
    "#### 23. Fazendo o mesmo processo para a coluna `taxa_de_reprovacao`"
   ]
  },
  {
   "cell_type": "code",
   "execution_count": 33,
   "metadata": {},
   "outputs": [
    {
     "data": {
      "image/png": "[encoded data removed]",
      "text/plain": [
       "<Figure size 640x480 with 1 Axes>"
      ]
     },
     "metadata": {},
     "output_type": "display_data"
    }
   ],
   "source": [
    "plotar_distribuicao_de_coluna_continua(ed_brasileira_2022, 'taxa_de_reprovacao', 'Distribuição da Taxa de Reprovação', 'Taxa de Reprovação')"
   ]
  },
  {
   "cell_type": "code",
   "execution_count": 34,
   "metadata": {},
   "outputs": [
    {
     "data": {
      "text/markdown": [
       "#### Limiar baixo: **1.7**, Limiar alto: **5.35**"
      ],
      "text/plain": [
       "<IPython.core.display.Markdown object>"
      ]
     },
     "metadata": {},
     "output_type": "display_data"
    }
   ],
   "source": [
    "limiar_baixo, limiar_alto = definir_limiares_para_categorizar_coluna(ed_brasileira_2022, 'taxa_de_reprovacao')"
   ]
  },
  {
   "cell_type": "code",
   "execution_count": 35,
   "metadata": {},
   "outputs": [
    {
     "name": "stderr",
     "output_type": "stream",
     "text": [
      "C:\\Users\\gabri\\AppData\\Local\\Temp\\ipykernel_35756\\1334800882.py:12: SettingWithCopyWarning: \n",
      "A value is trying to be set on a copy of a slice from a DataFrame.\n",
      "Try using .loc[row_indexer,col_indexer] = value instead\n",
      "\n",
      "See the caveats in the documentation: https://pandas.pydata.org/pandas-docs/stable/user_guide/indexing.html#returning-a-view-versus-a-copy\n",
      "  df[coluna_label] = df[coluna_label].apply(categorizar_valor)\n"
     ]
    },
    {
     "data": {
      "text/markdown": [
       "#### ['Reprovação Média' 'Reprovação Baixa' 'Reprovação Alta' 'Sem Reprovação']"
      ],
      "text/plain": [
       "<IPython.core.display.Markdown object>"
      ]
     },
     "metadata": {},
     "output_type": "display_data"
    }
   ],
   "source": [
    "categorizar_coluna(ed_brasileira_2022, 'taxa_de_reprovacao', { 'ZERO': 'Sem Reprovação', 'BAIXO': 'Reprovação Baixa', 'MEDIO': 'Reprovação Média', 'ALTO': 'Reprovação Alta'}, limiar_baixo, limiar_alto)"
   ]
  },
  {
   "cell_type": "code",
   "execution_count": 36,
   "metadata": {},
   "outputs": [
    {
     "data": {
      "image/png": "[encoded data removed]",
      "text/plain": [
       "<Figure size 800x800 with 1 Axes>"
      ]
     },
     "metadata": {},
     "output_type": "display_data"
    }
   ],
   "source": [
    "plotar_grafico_de_piza_com_categorias(ed_brasileira_2022, 'taxa_de_reprovacao', 'Proporção das Categorias de Reprovação')"
   ]
  },
  {
   "cell_type": "code",
   "execution_count": 37,
   "metadata": {},
   "outputs": [
    {
     "name": "stderr",
     "output_type": "stream",
     "text": [
      "C:\\Users\\gabri\\AppData\\Local\\Temp\\ipykernel_35756\\2055680165.py:2: SettingWithCopyWarning: \n",
      "A value is trying to be set on a copy of a slice from a DataFrame.\n",
      "Try using .loc[row_indexer,col_indexer] = value instead\n",
      "\n",
      "See the caveats in the documentation: https://pandas.pydata.org/pandas-docs/stable/user_guide/indexing.html#returning-a-view-versus-a-copy\n",
      "  df[coluna_label], unique = pd.factorize(df[coluna_label])\n"
     ]
    },
    {
     "data": {
      "text/markdown": [
       "#### Mapeamento de taxa de reprovação: **[('Reprovação Média', 0), ('Reprovação Baixa', 1), ('Reprovação Alta', 2), ('Sem Reprovação', 3)]**"
      ],
      "text/plain": [
       "<IPython.core.display.Markdown object>"
      ]
     },
     "metadata": {},
     "output_type": "display_data"
    }
   ],
   "source": [
    "codificar_categorias(ed_brasileira_2022, 'taxa_de_reprovacao', 'taxa de reprovação')"
   ]
  },
  {
   "cell_type": "markdown",
   "metadata": {},
   "source": [
    "#### 24. Criação do arquivo csv com os dados manipulados."
   ]
  },
  {
   "cell_type": "code",
   "execution_count": 38,
   "metadata": {},
   "outputs": [],
   "source": [
    "ed_brasileira_2022.to_csv('dados/ed_brasileira_2022.csv')"
   ]
  }
 ],
 "metadata": {
  "kernelspec": {
   "display_name": "Python 3",
   "language": "python",
   "name": "python3"
  },
  "language_info": {
   "codemirror_mode": {
    "name": "ipython",
    "version": 3
   },
   "file_extension": ".py",
   "mimetype": "text/x-python",
   "name": "python",
   "nbconvert_exporter": "python",
   "pygments_lexer": "ipython3",
   "version": "3.8.0"
  }
 },
 "nbformat": 4,
 "nbformat_minor": 2
}
