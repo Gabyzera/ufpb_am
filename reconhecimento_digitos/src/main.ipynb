{
 "cells": [
  {
   "cell_type": "markdown",
   "metadata": {},
   "source": [
    "# Reconhecimento de Dígitos\n",
    "## 1. Preparação do Ambiente"
   ]
  },
  {
   "cell_type": "code",
   "execution_count": 7,
   "metadata": {},
   "outputs": [],
   "source": [
    "import pandas as pd"
   ]
  },
  {
   "cell_type": "code",
   "execution_count": 8,
   "metadata": {},
   "outputs": [],
   "source": [
    "TEST_DATA_PATH = ('dados/test.csv')\n",
    "TRAIN_DATA_PATH = ('dados/train.csv')\n",
    "data_test_df = pd.read_csv(TEST_DATA_PATH, sep=';')\n",
    "data_train_df = pd.read_csv(TRAIN_DATA_PATH, sep=';')"
   ]
  },
  {
   "cell_type": "markdown",
   "metadata": {},
   "source": [
    "## 2. Redução da dimensão das amostras\n",
    "### 2.1. Intensidade da imagem"
   ]
  },
  {
   "cell_type": "code",
   "execution_count": 9,
   "metadata": {},
   "outputs": [],
   "source": [
    "def calcular_intensidade(row):\n",
    "    pixelx = row[3:]\n",
    "    intensidade = pixelx.sum() / 255\n",
    "    return intensidade \n",
    "\n",
    "data_train_df['intensidade'] = data_train_df.apply(calcular_intensidade, axis=1)\n",
    "data_test_df['intensidade'] = data_test_df.apply(calcular_intensidade, axis=1)"
   ]
  },
  {
   "cell_type": "markdown",
   "metadata": {},
   "source": [
    "### 2.2. Simetria da imagem"
   ]
  },
  {
   "cell_type": "code",
   "execution_count": 10,
   "metadata": {},
   "outputs": [],
   "source": [
    "def calcular_simetria(row):\n",
    "    pixels = row[2:].values.reshape(28, 28)  # Ignora o label e reformata para 28x28\n",
    "    simetria_vertical = 0\n",
    "    simetria_horizontal = 0\n",
    "    \n",
    "    for i in range(28):\n",
    "        for j in range(14):\n",
    "            simetria_vertical += abs(pixels[i][j] - pixels[i][27 - j])\n",
    "\n",
    "    for j in range(28):\n",
    "        for i in range(14):\n",
    "            simetria_horizontal += abs(pixels[i][j] - pixels[27 - i][j])\n",
    "    \n",
    "    simetria_completa = simetria_vertical + simetria_horizontal\n",
    "    simetria_completa /= (255 * 28 * 14 * 2)\n",
    "    return simetria_completa\n",
    "\n",
    "data_train_df['simetria'] = data_train_df.apply(calcular_simetria, axis=1)\n",
    "data_test_df['simetria'] = data_test_df.apply(calcular_simetria, axis=1)"
   ]
  },
  {
   "cell_type": "code",
   "execution_count": 11,
   "metadata": {},
   "outputs": [],
   "source": [
    "colunas_relevantes = ['label', 'intensidade', 'simetria']\n",
    "data_train_df[colunas_relevantes].to_csv('train_redu.csv', index=False)\n",
    "data_test_df[colunas_relevantes].to_csv('test_redu.csv', index=False)"
   ]
  },
  {
   "cell_type": "code",
   "execution_count": 12,
   "metadata": {},
   "outputs": [],
   "source": [
    "TEST_REDU_DATA_PATH = ('dados/test_redu.csv')\n",
    "TRAIN_REDU_DATA_PATH = ('dados/train_redu.csv')\n",
    "data_test_redu_df = pd.read_csv(TEST_REDU_DATA_PATH, sep=';')\n",
    "data_train_redu_df = pd.read_csv(TRAIN_REDU_DATA_PATH, sep=';')"
   ]
  }
 ],
 "metadata": {
  "kernelspec": {
   "display_name": "Python 3",
   "language": "python",
   "name": "python3"
  },
  "language_info": {
   "codemirror_mode": {
    "name": "ipython",
    "version": 3
   },
   "file_extension": ".py",
   "mimetype": "text/x-python",
   "name": "python",
   "nbconvert_exporter": "python",
   "pygments_lexer": "ipython3",
   "version": "3.12.1"
  }
 },
 "nbformat": 4,
 "nbformat_minor": 2
}
