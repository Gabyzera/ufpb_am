{
 "cells": [
  {
   "cell_type": "markdown",
   "metadata": {
    "colab_type": "text",
    "id": "hxCePgpn5YJR"
   },
   "source": [
    "# <font color=\"darkblue\"> Prática 01: Perceptron Learning Algorithm (PLA) </font>\n",
    "\n",
    "\n"
   ]
  },
  {
   "cell_type": "markdown",
   "metadata": {
    "colab_type": "text",
    "id": "YOOM3TfP5YG2"
   },
   "source": [
    "**Objetivos:**\n",
    "\n",
    "\n",
    "*   Entender o funcionamento do PLA e dos componentes de aprendizagem.\n",
    "*   Fixar o conceito de aprendizagem.\n",
    "\n"
   ]
  },
  {
   "cell_type": "markdown",
   "metadata": {
    "colab_type": "text",
    "id": "B7-fH5fiGjvn"
   },
   "source": [
    "**Descrição:**\n",
    "\n",
    "Crie uma dataset $D$ com 1000 pontos e uma função alvo $f$ para compreender o funcionamento do PLA. Para visualizar os passos do algoritmo, considere $d=2$ e assuma $X=[-1,1]\\times[-1,1]$, em que $x\\in X$ é escolhido com probabilidade uniforme. Escolha uma reta como função alvo, em que um lado da reta seja mapeado para $+1$ e o outro para $-1$. Gere então pontos aleatórios $x_i$ e obtenha sua classificação $y_i$ a partir da função alvo. Divida os dados em um grupo de treinamento e outro de teste. \n",
    "\n",
    "Após a preparação dos dados, crie uma função $PLA()$ que inicia com os pesos todos iguais a zero e, a cada iteração, deixe o algoritmo escolher aleatoriamente um dos pontos com classificação incorreta até que ele convirja. Rode o PLA sobre amostras com $N=10$ e $N=100$, teste a hipótese solução a partir de pontos diferentes (conjunto de teste) daqueles das amostras e responda a seguinte questão:\n",
    "\n",
    "- Qual o percentual de pontos classificados corretamente para cada hipótese solução? \n",
    "\n",
    "\n",
    "\n",
    "\n",
    "\n",
    "\n",
    "\n",
    "\n"
   ]
  },
  {
   "cell_type": "markdown",
   "metadata": {
    "colab_type": "text",
    "id": "Q6vEKdCpW7uu"
   },
   "source": [
    "# <font color=\"darkblue\"> Solução </font>\n"
   ]
  },
  {
   "cell_type": "markdown",
   "metadata": {
    "colab_type": "text",
    "id": "xjQaS5NhV2gG"
   },
   "source": [
    "###  Preparação dos dos dados\n",
    "\n",
    "O objetivo da prepação dos dados é a criação da função alvo e do dataset conforme a descrição do problema. Para tanto, você deve realizar os seguintes passos:\n",
    "\n",
    "* Crie a função alvo (uma reta) a partir de dois pontos gerados aleatoriamente;\n",
    "* Calcule o coeficiente angular e o coeficiente linear (bias) e os armazene em variáveis distintas;\n",
    "* Gere aleatoriamente 1000 pontos, cujas coordenadas estão no intervalo $[-1,1]$, e os adicione em uma lista $X$ correspondendo aos dados da amostra;\n",
    "* Para cada ponto gerado, use a função sign() de numpy, que recebe como entrada uma reta (função alvo), para obter a classificação de cada ponto. Adicione cada classificação em uma lista $y$.\n"
   ]
  },
  {
   "cell_type": "code",
   "execution_count": 10,
   "metadata": {
    "colab": {},
    "colab_type": "code",
    "executionInfo": {
     "elapsed": 732,
     "status": "ok",
     "timestamp": 1599657778711,
     "user": {
      "displayName": "Bruno Pessoa",
      "photoUrl": "",
      "userId": "11515750209403097426"
     },
     "user_tz": 180
    },
    "id": "k2OXIQVwV6JK"
   },
   "outputs": [],
   "source": [
    "import numpy as np\n",
    "import matplotlib.pyplot as plt\n",
    "import random\n",
    "from IPython.display import clear_output"
   ]
  },
  {
   "cell_type": "markdown",
   "metadata": {
    "colab_type": "text",
    "id": "8ZkoSyK2CkF1"
   },
   "source": [
    "### Visualizando o dataset\n",
    "Use a função abaixo para visualizar o dataset criado anteriormente."
   ]
  },
  {
   "cell_type": "code",
   "execution_count": 12,
   "metadata": {},
   "outputs": [
    {
     "data": {
      "image/png": "[encoded data removed]",
      "text/plain": [
       "<Figure size 640x480 with 1 Axes>"
      ]
     },
     "metadata": {},
     "output_type": "display_data"
    }
   ],
   "source": [
    "def show_dataset(X, p1, p2, m, b):\n",
    "    \"\"\"\n",
    "    Esta função tem o objetivo de exibir na tela uma amostra do dataset passado por parâmetro.\n",
    "    \n",
    "    Paramêtros:\n",
    "    - X (matriz): Matriz 1000x2 correspondendo aos dados amostra. Cada elemento de X é uma lista que corresponde \n",
    "    às coordenadas dos pontos gerados.\n",
    "    - p1 (list): Coordenadas do ponto p1 gerado para criar a função alvo.\n",
    "    - p2 (list): Coordenadas do ponto p2 gerado para criar a função alvo.\n",
    "    - m (float): Coeficiente angular da função alvo.\n",
    "    - b (float): Coeficidnte linear da função alvo.\n",
    "    \"\"\"\n",
    "    \n",
    "    line = np.linspace(-1, 1, 1000) \n",
    "    plt.plot(line, m*line + b, label=\"f(x)\", c=\"green\")\n",
    "\n",
    "    # Pontos usados na criacao da reta\n",
    "    plt.scatter(p1[0], p1[1], c='green')\n",
    "    plt.scatter(p2[0], p2[1], c='green')\n",
    "\n",
    "    for i in range(len(X[:200])):\n",
    "        if (y[i] == 1):\n",
    "            plt.scatter(X[i][0], X[i][1], c='blue')\n",
    "        else:        \n",
    "            plt.scatter(X[i][0], X[i][1], c='red')\n",
    "\n",
    "    plt.show()      "
   ]
  },
  {
   "cell_type": "markdown",
   "metadata": {
    "colab_type": "text",
    "id": "xyP4KkN8WWgn"
   },
   "source": [
    "### Algoritmo PLA\n",
    "Complete a função PLA() abaixo para implementar o Algoritmo de Aprendizagem do Perceptron conforme os slides da aula de \"Significado de aprendizagem\"."
   ]
  },
  {
   "cell_type": "code",
   "execution_count": 1,
   "metadata": {
    "colab": {},
    "colab_type": "code",
    "executionInfo": {
     "elapsed": 748,
     "status": "ok",
     "timestamp": 1599657377704,
     "user": {
      "displayName": "Bruno Pessoa",
      "photoUrl": "",
      "userId": "11515750209403097426"
     },
     "user_tz": 180
    },
    "id": "6ksqurbeWf_C"
   },
   "outputs": [],
   "source": [
    "def PLA(X, y, f):\n",
    "    \"\"\"\n",
    "    Esta função corresponde ao Algoritmo de Aprendizagem do modelo Perceptron.\n",
    "    \n",
    "    Paramêtros:\n",
    "    - X (list[]): Matriz 1000x2 correspondendo aos dados amostra. Cada elemento de X é uma lista que corresponde \n",
    "    às coordenadas dos pontos gerados.\n",
    "    - y (list): Classificação dos pontos da amostra X.\n",
    "    - f (list): Lista de dois elementos correspondendo, respectivamente, aos coeficientes angular e linear \n",
    "    da função alvo.\n",
    "    \n",
    "    Retorno:\n",
    "    - it (int): Quantidade de iterações necessárias para corrigir todos os pontos classificados incorretamente.\n",
    "    - w (list): Lista de três elementos correspondendo aos pesos do perceptron.\n",
    "    \"\"\"\n",
    "    listaPCI = X\n",
    "    while (len(listaPCI) > 0):\n",
    "        \n",
    "        # Após atualizar os pesos para correção do ponto escolhido, você irá chamar a função plotGrafico()\n",
    "        plot_grafico(X, y, w, f)        \n",
    "        \n",
    "        \n",
    "    return it, w            "
   ]
  },
  {
   "cell_type": "markdown",
   "metadata": {
    "colab_type": "text",
    "id": "008h3gu8Ybzb"
   },
   "source": [
    "### Função para visualização dos passos do PLA\n",
    "A função abaixo é uma função auxiliar que permite que vocês enxerguem o resultado de cada iteração da função PLA()."
   ]
  },
  {
   "cell_type": "code",
   "execution_count": 4,
   "metadata": {
    "colab": {},
    "colab_type": "code",
    "executionInfo": {
     "elapsed": 738,
     "status": "ok",
     "timestamp": 1599657229727,
     "user": {
      "displayName": "Bruno Pessoa",
      "photoUrl": "",
      "userId": "11515750209403097426"
     },
     "user_tz": 180
    },
    "id": "iRl4_hzlYjMG"
   },
   "outputs": [],
   "source": [
    "%matplotlib inline\n",
    "def plot_grafico(X, y, w, f):   \n",
    "    \"\"\"\n",
    "    Esta função objetiva a visualização dos passos do PLA.\n",
    "    \n",
    "    Paramêtros:\n",
    "    - X (list[]): Matriz 1000x2 correspondendo aos dados amostra. Cada elemento de X é uma lista que corresponde \n",
    "    às coordenadas dos pontos gerados.\n",
    "    - y (list): Classificação dos pontos da amostra X.\n",
    "    - w (list): Lista correspondendo aos pesos do perceptron.\n",
    "    - f (list): Lista de dois elementos correspondendo, respectivamente, aos coeficientes angular e linear \n",
    "    da função alvo.    \n",
    "    \"\"\"\n",
    "    \n",
    "    nPontos = len(X)    \n",
    "    #matplotlib.use('TkAgg')    \n",
    "            \n",
    "    ax = plt.gca()\n",
    "    ax.spines['top'].set_color('none')\n",
    "    ax.spines['bottom'].set_position('zero')\n",
    "    ax.spines['left'].set_position('zero')\n",
    "    ax.spines['right'].set_color('none')\n",
    "\n",
    "    plt.axis([-1, 1, -1, 1])\n",
    "\n",
    "    x_plt = [X[i][0] for i in range(nPontos)]\n",
    "    y_plt = [X[i][1] for i in range(nPontos)]\n",
    "\n",
    "    for i in range(nPontos):\n",
    "        if (y[i] == 1):\n",
    "            plt.scatter(x_plt[i], y_plt[i], s=10, c='blue')\n",
    "        else:\n",
    "            plt.scatter(x_plt[i], y_plt[i], s=10, c='red')\n",
    "\n",
    "    x = np.linspace(-1, 1, 1000)\n",
    "    plt.plot(x, f[0]*x + f[1], c='green') # f[0] = m, f[1] = b\n",
    "    plt.plot(x, (-w[0] - w[1]*x) / w[2], c='orange') # A*x + B*y + C => y = (-C - A*x) / B\n",
    "    clear_output(wait=True)    \n",
    "    plt.show(block=False)    \n",
    "    plt.pause(0.01)   \n"
   ]
  },
  {
   "cell_type": "markdown",
   "metadata": {
    "colab_type": "text",
    "id": "azzzLIzWZdDu"
   },
   "source": [
    "### Função para construir lista de pontos classificados incorretamente\n",
    "Implemente a função abaixo para contruir a lista de pontos classificados incorretamente em cada iteração do loop principal da função PLA().\n"
   ]
  },
  {
   "cell_type": "code",
   "execution_count": 5,
   "metadata": {
    "colab": {},
    "colab_type": "code",
    "executionInfo": {
     "elapsed": 830,
     "status": "ok",
     "timestamp": 1599657234445,
     "user": {
      "displayName": "Bruno Pessoa",
      "photoUrl": "",
      "userId": "11515750209403097426"
     },
     "user_tz": 180
    },
    "id": "H6cIgZ_8ZjAp"
   },
   "outputs": [],
   "source": [
    "def constroiListaPCI(X, y, w):\n",
    "    \"\"\"\n",
    "    Esta função constrói a lista de pontos classificados incorretamente.\n",
    "    \n",
    "    Paramêtros:\n",
    "    - X (list[]): Matriz 1000x2 correspondendo aos dados amostra. Cada elemento de X é uma lista que corresponde \n",
    "    às coordenadas dos pontos gerados.\n",
    "    - y (list): Classificação dos pontos da amostra X.\n",
    "    - w (list): Lista correspondendo aos pesos do perceptron.\n",
    "   \n",
    "    Retorno:\n",
    "    - l (list): Lista com os pontos classificador incorretamente.\n",
    "    - new_y (list): Nova classificação de tais pontos.\n",
    "   \n",
    "    \"\"\"    \n",
    "    \n",
    "    return l, new_y                            "
   ]
  },
  {
   "cell_type": "markdown",
   "metadata": {
    "colab_type": "text",
    "id": "CArSxezbZs5G"
   },
   "source": [
    "### Calculando a acurácia\n",
    "\n",
    "Treine o Modelo de Aprendizagem de Máquina Perceptron com subamostras de tamanhos $N=10$ e $N = 100$, conforme o enunciado, e em seguida verifique acurácia do modelo com uma subamostra de teste que contém pontos diferentes das subamostras utilizadas para treinamento."
   ]
  },
  {
   "cell_type": "code",
   "execution_count": null,
   "metadata": {},
   "outputs": [],
   "source": []
  }
 ],
 "metadata": {
  "colab": {
   "authorship_tag": "ABX9TyMNrsQlxF8G00h2pzqbDVMv",
   "collapsed_sections": [
    "xjQaS5NhV2gG"
   ],
   "name": "aula1_pratica1.ipynb",
   "provenance": []
  },
  "kernelspec": {
   "display_name": "Python 3 (ipykernel)",
   "language": "python",
   "name": "python3"
  },
  "language_info": {
   "codemirror_mode": {
    "name": "ipython",
    "version": 3
   },
   "file_extension": ".py",
   "mimetype": "text/x-python",
   "name": "python",
   "nbconvert_exporter": "python",
   "pygments_lexer": "ipython3",
   "version": "3.10.9"
  }
 },
 "nbformat": 4,
 "nbformat_minor": 1
}
